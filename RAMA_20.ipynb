{
  "nbformat": 4,
  "nbformat_minor": 0,
  "metadata": {
    "colab": {
      "name": "RAMA_20.ipynb",
      "provenance": [],
      "authorship_tag": "ABX9TyPtetr9ZmH61Ap4xyprejZM",
      "include_colab_link": true
    },
    "kernelspec": {
      "name": "python3",
      "display_name": "Python 3"
    }
  },
  "cells": [
    {
      "cell_type": "markdown",
      "metadata": {
        "id": "view-in-github",
        "colab_type": "text"
      },
      "source": [
        "<a href=\"https://colab.research.google.com/github/RamaGitam/Skill-Devlopment-IV/blob/main/RAMA_20.ipynb\" target=\"_parent\"><img src=\"https://colab.research.google.com/assets/colab-badge.svg\" alt=\"Open In Colab\"/></a>"
      ]
    },
    {
      "cell_type": "markdown",
      "metadata": {
        "id": "KWnMEes2e83L"
      },
      "source": [
        "### **PERMUTATIONS**\n",
        "\n",
        "```\n",
        "# This is formatted as code\n",
        "```\n",
        "\n"
      ]
    },
    {
      "cell_type": "code",
      "metadata": {
        "id": "q2mxhABwO4ar"
      },
      "source": [
        "from itertools import permutations"
      ],
      "execution_count": null,
      "outputs": []
    },
    {
      "cell_type": "code",
      "metadata": {
        "colab": {
          "base_uri": "https://localhost:8080/"
        },
        "id": "Qx9Qm4jsPbOQ",
        "outputId": "94f52ab7-5cd9-4916-eb69-cb60cace1d49"
      },
      "source": [
        "# Get all permutations of [1, 2, 3]\n",
        "perm = permutations([1, 2, 3])\n",
        "\n",
        "# print the obtained permutations\n",
        "for i in list(perm):\n",
        "  print (i)"
      ],
      "execution_count": null,
      "outputs": [
        {
          "output_type": "stream",
          "text": [
            "(1, 2, 3)\n",
            "(1, 3, 2)\n",
            "(2, 1, 3)\n",
            "(2, 3, 1)\n",
            "(3, 1, 2)\n",
            "(3, 2, 1)\n"
          ],
          "name": "stdout"
        }
      ]
    },
    {
      "cell_type": "code",
      "metadata": {
        "colab": {
          "base_uri": "https://localhost:8080/"
        },
        "id": "KlrQ_Y8cSWcX",
        "outputId": "ba4bb9e6-1eb9-4dc5-ff52-a0693d820b8f"
      },
      "source": [
        "# find the permutation of a list of three items by defining the length\n",
        "perm = permutations([1, 2, 3], 2)\n",
        "\n",
        "# Print the obtained permutations\n",
        "for i in list(perm):\n",
        "    print (i)"
      ],
      "execution_count": null,
      "outputs": [
        {
          "output_type": "stream",
          "text": [
            "(1, 2)\n",
            "(1, 3)\n",
            "(2, 1)\n",
            "(2, 3)\n",
            "(3, 1)\n",
            "(3, 2)\n"
          ],
          "name": "stdout"
        }
      ]
    },
    {
      "cell_type": "code",
      "metadata": {
        "colab": {
          "base_uri": "https://localhost:8080/"
        },
        "id": "REr6ExA_U7Y_",
        "outputId": "64bf85f8-b99d-48b6-9dc6-011bcb508aa8"
      },
      "source": [
        "# find the permutation of a list of three items.\n",
        "seq = permutations(['1', '2', '3'])\n",
        "\n",
        "for i in list(seq):\n",
        "  print (i)"
      ],
      "execution_count": null,
      "outputs": [
        {
          "output_type": "stream",
          "text": [
            "('1', '2', '3')\n",
            "('1', '3', '2')\n",
            "('2', '1', '3')\n",
            "('2', '3', '1')\n",
            "('3', '1', '2')\n",
            "('3', '2', '1')\n"
          ],
          "name": "stdout"
        }
      ]
    },
    {
      "cell_type": "code",
      "metadata": {
        "colab": {
          "base_uri": "https://localhost:8080/"
        },
        "id": "JB9KmvuIVlXe",
        "outputId": "f70aeb12-1164-4f6b-db10-b0a623b7d9f6"
      },
      "source": [
        "# Permutation of Number as Character\n",
        "cseq = permutations(['A', 'B', 'C'])\n",
        "\n",
        "for i in list(cseq):\n",
        "  print (i)"
      ],
      "execution_count": null,
      "outputs": [
        {
          "output_type": "stream",
          "text": [
            "('A', 'B', 'C')\n",
            "('A', 'C', 'B')\n",
            "('B', 'A', 'C')\n",
            "('B', 'C', 'A')\n",
            "('C', 'A', 'B')\n",
            "('C', 'B', 'A')\n"
          ],
          "name": "stdout"
        }
      ]
    },
    {
      "cell_type": "code",
      "metadata": {
        "colab": {
          "base_uri": "https://localhost:8080/"
        },
        "id": "ka0oAo8SV2uu",
        "outputId": "613a6355-f554-4f85-dc4c-cc7c8b85faa8"
      },
      "source": [
        "# Find the permutation by defining the length (3) of the permutation.\n",
        "cseq = permutations(['A', 'B', 'C'], 3)\n",
        "\n",
        "for i in list(cseq):\n",
        "  print (i)"
      ],
      "execution_count": null,
      "outputs": [
        {
          "output_type": "stream",
          "text": [
            "('A', 'B', 'C')\n",
            "('A', 'C', 'B')\n",
            "('B', 'A', 'C')\n",
            "('B', 'C', 'A')\n",
            "('C', 'A', 'B')\n",
            "('C', 'B', 'A')\n"
          ],
          "name": "stdout"
        }
      ]
    },
    {
      "cell_type": "code",
      "metadata": {
        "colab": {
          "base_uri": "https://localhost:8080/"
        },
        "id": "Pa1FYfLZWI2S",
        "outputId": "6f4e1d6e-6181-4ff3-df3b-f7747c0a08d8"
      },
      "source": [
        "# Permutation of Character for fixed length 3\n",
        "cseq = permutations(['h', 'e', 'l', 'l', 'o'], 3)\n",
        "\n",
        "for i in list(cseq):\n",
        "  print (i)"
      ],
      "execution_count": null,
      "outputs": [
        {
          "output_type": "stream",
          "text": [
            "('h', 'e', 'l')\n",
            "('h', 'e', 'l')\n",
            "('h', 'e', 'o')\n",
            "('h', 'l', 'e')\n",
            "('h', 'l', 'l')\n",
            "('h', 'l', 'o')\n",
            "('h', 'l', 'e')\n",
            "('h', 'l', 'l')\n",
            "('h', 'l', 'o')\n",
            "('h', 'o', 'e')\n",
            "('h', 'o', 'l')\n",
            "('h', 'o', 'l')\n",
            "('e', 'h', 'l')\n",
            "('e', 'h', 'l')\n",
            "('e', 'h', 'o')\n",
            "('e', 'l', 'h')\n",
            "('e', 'l', 'l')\n",
            "('e', 'l', 'o')\n",
            "('e', 'l', 'h')\n",
            "('e', 'l', 'l')\n",
            "('e', 'l', 'o')\n",
            "('e', 'o', 'h')\n",
            "('e', 'o', 'l')\n",
            "('e', 'o', 'l')\n",
            "('l', 'h', 'e')\n",
            "('l', 'h', 'l')\n",
            "('l', 'h', 'o')\n",
            "('l', 'e', 'h')\n",
            "('l', 'e', 'l')\n",
            "('l', 'e', 'o')\n",
            "('l', 'l', 'h')\n",
            "('l', 'l', 'e')\n",
            "('l', 'l', 'o')\n",
            "('l', 'o', 'h')\n",
            "('l', 'o', 'e')\n",
            "('l', 'o', 'l')\n",
            "('l', 'h', 'e')\n",
            "('l', 'h', 'l')\n",
            "('l', 'h', 'o')\n",
            "('l', 'e', 'h')\n",
            "('l', 'e', 'l')\n",
            "('l', 'e', 'o')\n",
            "('l', 'l', 'h')\n",
            "('l', 'l', 'e')\n",
            "('l', 'l', 'o')\n",
            "('l', 'o', 'h')\n",
            "('l', 'o', 'e')\n",
            "('l', 'o', 'l')\n",
            "('o', 'h', 'e')\n",
            "('o', 'h', 'l')\n",
            "('o', 'h', 'l')\n",
            "('o', 'e', 'h')\n",
            "('o', 'e', 'l')\n",
            "('o', 'e', 'l')\n",
            "('o', 'l', 'h')\n",
            "('o', 'l', 'e')\n",
            "('o', 'l', 'l')\n",
            "('o', 'l', 'h')\n",
            "('o', 'l', 'e')\n",
            "('o', 'l', 'l')\n"
          ],
          "name": "stdout"
        }
      ]
    },
    {
      "cell_type": "code",
      "metadata": {
        "colab": {
          "base_uri": "https://localhost:8080/"
        },
        "id": "KOqYcGL_iKgX",
        "outputId": "2b975a45-813a-4f7e-85aa-ddbb5fae4df9"
      },
      "source": [
        "#Permutations of a Python string\n",
        "st = \"ABC\"\n",
        "per = permutations(st)\n",
        "for val in per:\n",
        "    print(val)"
      ],
      "execution_count": null,
      "outputs": [
        {
          "output_type": "stream",
          "text": [
            "('A', 'B', 'C')\n",
            "('A', 'C', 'B')\n",
            "('B', 'A', 'C')\n",
            "('B', 'C', 'A')\n",
            "('C', 'A', 'B')\n",
            "('C', 'B', 'A')\n"
          ],
          "name": "stdout"
        }
      ]
    },
    {
      "cell_type": "code",
      "metadata": {
        "colab": {
          "base_uri": "https://localhost:8080/"
        },
        "id": "m_OAK4cfiu97",
        "outputId": "d036034d-ab49-4047-f871-34800721c770"
      },
      "source": [
        "#Permutations of a Python string\n",
        "st = \"ABC\"\n",
        "per = permutations(st)\n",
        "for val in per:\n",
        "    print(*val)"
      ],
      "execution_count": null,
      "outputs": [
        {
          "output_type": "stream",
          "text": [
            "A B C\n",
            "A C B\n",
            "B A C\n",
            "B C A\n",
            "C A B\n",
            "C B A\n"
          ],
          "name": "stdout"
        }
      ]
    },
    {
      "cell_type": "code",
      "metadata": {
        "colab": {
          "base_uri": "https://localhost:8080/"
        },
        "id": "DwKRuv7NizNa",
        "outputId": "3503d586-c0c8-4d0f-8ec0-b6b14063dc7c"
      },
      "source": [
        "import itertools\n",
        "val = [1, 2, 3, 4]\n",
        "  \n",
        "perm_set = itertools.permutations(val,2)\n",
        "  \n",
        "for i in perm_set:\n",
        "    print(i)"
      ],
      "execution_count": null,
      "outputs": [
        {
          "output_type": "stream",
          "text": [
            "(1, 2)\n",
            "(1, 3)\n",
            "(1, 4)\n",
            "(2, 1)\n",
            "(2, 3)\n",
            "(2, 4)\n",
            "(3, 1)\n",
            "(3, 2)\n",
            "(3, 4)\n",
            "(4, 1)\n",
            "(4, 2)\n",
            "(4, 3)\n"
          ],
          "name": "stdout"
        }
      ]
    },
    {
      "cell_type": "code",
      "metadata": {
        "colab": {
          "base_uri": "https://localhost:8080/"
        },
        "id": "NgW4L1ECjUqH",
        "outputId": "f10059dd-636a-40aa-cc2e-58ebb1f4513e"
      },
      "source": [
        "import itertools\n",
        "  \n",
        "val = \"ABCD\"\n",
        "  \n",
        "com_set = itertools.permutations(val, 2)\n",
        "  \n",
        "for i in com_set:\n",
        "    print(i)"
      ],
      "execution_count": null,
      "outputs": [
        {
          "output_type": "stream",
          "text": [
            "('A', 'B')\n",
            "('A', 'C')\n",
            "('A', 'D')\n",
            "('B', 'A')\n",
            "('B', 'C')\n",
            "('B', 'D')\n",
            "('C', 'A')\n",
            "('C', 'B')\n",
            "('C', 'D')\n",
            "('D', 'A')\n",
            "('D', 'B')\n",
            "('D', 'C')\n"
          ],
          "name": "stdout"
        }
      ]
    },
    {
      "cell_type": "code",
      "metadata": {
        "colab": {
          "base_uri": "https://localhost:8080/"
        },
        "id": "kwJktO5AVM0d",
        "outputId": "35f881f1-86a3-4036-dfa5-492f07bd89d9"
      },
      "source": [
        "# Permutation using Backtracking (Swaping)\n",
        "\n",
        "\n",
        "result = []\n",
        "\n",
        "def permutation(data,i,n):\n",
        "  if i == n:\n",
        "    result.append(\"\".join(data)) # ['A', 'B', 'C']\n",
        "  for j in range(i,n+1):\n",
        "    data[i], data[j] = data[j], data[i]\n",
        "    permutation(data, i+1, n)\n",
        "    data[i], data[j] = data[j], data[i] #backtracking\n",
        "\n",
        "\n",
        "data = \"ABC\"   # ['A', 'B', 'C']\n",
        "i = 0\n",
        "n = len(data)-1\n",
        "\n",
        "permutation(list(data), i, n)\n",
        "\n",
        "print(result)\n",
        "\n"
      ],
      "execution_count": null,
      "outputs": [
        {
          "output_type": "stream",
          "text": [
            "['ABC', 'ACB', 'BAC', 'BCA', 'CBA', 'CAB']\n"
          ],
          "name": "stdout"
        }
      ]
    },
    {
      "cell_type": "code",
      "metadata": {
        "colab": {
          "base_uri": "https://localhost:8080/"
        },
        "id": "dLxZuPE6k6qw",
        "outputId": "e450c1f9-533a-421c-b510-5e76d39ac78d"
      },
      "source": [
        "# Permutation using Backtracking\n",
        "#The idea is to one by one extract all elements, place them at first position and recur for remaining list.\n",
        "\n",
        "def permutation(lst):\n",
        " \n",
        "    # If lst is empty then there are no permutations\n",
        "    if len(lst) == 0:\n",
        "        return []\n",
        " \n",
        "    # If there is only one element in lst then, only\n",
        "    # one permutation is possible\n",
        "    elif len(lst) == 1:\n",
        "        return [lst]\n",
        "\n",
        "    else:\n",
        " \n",
        "    # Find the permutations for lst if there are\n",
        "    # more than 1 characters\n",
        " \n",
        "    l = [] # empty list that will store current permutation\n",
        " \n",
        "    # Iterate the input(lst) and calculate the permutation\n",
        "    for i in range(len(lst)):\n",
        "       m = lst[i]\n",
        " \n",
        "       # Extract lst[i] or m from the list.  remLst is\n",
        "       # remaining list\n",
        "       remLst = lst[:i] + lst[i+1:]\n",
        " \n",
        "       # Generating all permutations where m is first\n",
        "       # element\n",
        "       for p in permutation(remLst):\n",
        "           l.append([m] + p)\n",
        "    return l\n",
        " \n",
        " \n",
        "# Driver program to test above function\n",
        "data = list('123')\n",
        "for p in permutation(data):\n",
        "    print (p)"
      ],
      "execution_count": null,
      "outputs": [
        {
          "output_type": "stream",
          "text": [
            "['1', '2', '3']\n",
            "['1', '3', '2']\n",
            "['2', '1', '3']\n",
            "['2', '3', '1']\n",
            "['3', '1', '2']\n",
            "['3', '2', '1']\n"
          ],
          "name": "stdout"
        }
      ]
    },
    {
      "cell_type": "code",
      "metadata": {
        "colab": {
          "base_uri": "https://localhost:8080/"
        },
        "id": "maMvCTILMpvt",
        "outputId": "ff2c16a2-04ff-49fb-e08e-6045f45bd4e6"
      },
      "source": [
        "# In how many ways the groups of 3 you can arrange so that the sum of the elements of the group is 10\n",
        "\n",
        "import itertools\n",
        "\n",
        "num_list = [1, 2, 3, 4, 5, 6]\n",
        "\n",
        "permutations = itertools.permutations(num_list,3)\n",
        "combinations = itertools.combinations(num_list,3)\n",
        "\n",
        "for result in permutations: \n",
        "  if sum(result) == 10:\n",
        "    print(result)\n"
      ],
      "execution_count": 27,
      "outputs": [
        {
          "output_type": "stream",
          "text": [
            "(1, 3, 6)\n",
            "(1, 4, 5)\n",
            "(1, 5, 4)\n",
            "(1, 6, 3)\n",
            "(2, 3, 5)\n",
            "(2, 5, 3)\n",
            "(3, 1, 6)\n",
            "(3, 2, 5)\n",
            "(3, 5, 2)\n",
            "(3, 6, 1)\n",
            "(4, 1, 5)\n",
            "(4, 5, 1)\n",
            "(5, 1, 4)\n",
            "(5, 2, 3)\n",
            "(5, 3, 2)\n",
            "(5, 4, 1)\n",
            "(6, 1, 3)\n",
            "(6, 3, 1)\n"
          ],
          "name": "stdout"
        }
      ]
    },
    {
      "cell_type": "markdown",
      "metadata": {
        "id": "2BlZ0l7nmmEQ"
      },
      "source": [
        "##**Generating permutation matrices of a 2 dimensional array in Python**"
      ]
    },
    {
      "cell_type": "code",
      "metadata": {
        "colab": {
          "base_uri": "https://localhost:8080/"
        },
        "id": "OYX79GH_mqi4",
        "outputId": "362b86e5-4183-417f-9650-9a2e27a0ed4f"
      },
      "source": [
        "import itertools\n",
        "\n",
        "def I(n):\n",
        "    A = []\n",
        "    for i in range(n):\n",
        "        A.append([1 if j == i else 0 for j in range(n)])\n",
        "    return A\n",
        "\n",
        "#tests:\n",
        "\n",
        "A = I(3)\n",
        "\n",
        "for m in itertools.permutations(A):\n",
        "    print('\\n'.join(str(row) for row in m))\n",
        "    print('')\n",
        "\n",
        "A = I(11)\n",
        "count = 0\n",
        "for m in itertools.permutations(A):\n",
        "    count = count + m[0][0] #for testing purposes\n",
        "print(count)"
      ],
      "execution_count": null,
      "outputs": [
        {
          "output_type": "stream",
          "text": [
            "[1, 0, 0]\n",
            "[0, 1, 0]\n",
            "[0, 0, 1]\n",
            "\n",
            "[1, 0, 0]\n",
            "[0, 0, 1]\n",
            "[0, 1, 0]\n",
            "\n",
            "[0, 1, 0]\n",
            "[1, 0, 0]\n",
            "[0, 0, 1]\n",
            "\n",
            "[0, 1, 0]\n",
            "[0, 0, 1]\n",
            "[1, 0, 0]\n",
            "\n",
            "[0, 0, 1]\n",
            "[1, 0, 0]\n",
            "[0, 1, 0]\n",
            "\n",
            "[0, 0, 1]\n",
            "[0, 1, 0]\n",
            "[1, 0, 0]\n",
            "\n",
            "3628800\n",
            "[[1, 0, 0, 0, 0, 0, 0, 0, 0, 0, 0], [0, 1, 0, 0, 0, 0, 0, 0, 0, 0, 0], [0, 0, 1, 0, 0, 0, 0, 0, 0, 0, 0], [0, 0, 0, 1, 0, 0, 0, 0, 0, 0, 0], [0, 0, 0, 0, 1, 0, 0, 0, 0, 0, 0], [0, 0, 0, 0, 0, 1, 0, 0, 0, 0, 0], [0, 0, 0, 0, 0, 0, 1, 0, 0, 0, 0], [0, 0, 0, 0, 0, 0, 0, 1, 0, 0, 0], [0, 0, 0, 0, 0, 0, 0, 0, 1, 0, 0], [0, 0, 0, 0, 0, 0, 0, 0, 0, 1, 0], [0, 0, 0, 0, 0, 0, 0, 0, 0, 0, 1]]\n"
          ],
          "name": "stdout"
        }
      ]
    }
  ]
}