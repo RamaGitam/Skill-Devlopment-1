{
  "nbformat": 4,
  "nbformat_minor": 0,
  "metadata": {
    "colab": {
      "name": "RAMA_20.ipynb",
      "provenance": [],
      "authorship_tag": "ABX9TyNOA7tsLCjqgrBMZpAOVEPK",
      "include_colab_link": true
    },
    "kernelspec": {
      "name": "python3",
      "display_name": "Python 3"
    }
  },
  "cells": [
    {
      "cell_type": "markdown",
      "metadata": {
        "id": "view-in-github",
        "colab_type": "text"
      },
      "source": [
        "<a href=\"https://colab.research.google.com/github/RamaGitam/Skill-Devlopment-IV/blob/main/RAMA_20.ipynb\" target=\"_parent\"><img src=\"https://colab.research.google.com/assets/colab-badge.svg\" alt=\"Open In Colab\"/></a>"
      ]
    },
    {
      "cell_type": "markdown",
      "metadata": {
        "id": "KWnMEes2e83L"
      },
      "source": [
        "### FIRST PROGRAM\n",
        "\n",
        "```\n",
        "# This is formatted as code\n",
        "```\n",
        "\n"
      ]
    },
    {
      "cell_type": "code",
      "metadata": {
        "id": "q2mxhABwO4ar"
      },
      "source": [
        "from itertools import permutations"
      ],
      "execution_count": 3,
      "outputs": []
    },
    {
      "cell_type": "markdown",
      "metadata": {
        "id": "V6gQtKtyPZx7"
      },
      "source": [
        "Get all permutations of [1, 2, 3]\n"
      ]
    },
    {
      "cell_type": "code",
      "metadata": {
        "id": "Qx9Qm4jsPbOQ"
      },
      "source": [
        "perm = permutations([1, 2, 3])"
      ],
      "execution_count": 5,
      "outputs": []
    },
    {
      "cell_type": "markdown",
      "metadata": {
        "id": "FWKzkLzbQD13"
      },
      "source": [
        "Print the obtained permutations"
      ]
    },
    {
      "cell_type": "code",
      "metadata": {
        "colab": {
          "base_uri": "https://localhost:8080/"
        },
        "id": "g9Jyk9nrQJXv",
        "outputId": "72760eac-265f-41ba-e61b-480428d07069"
      },
      "source": [
        "for i in list(perm):\n",
        "    print (i)"
      ],
      "execution_count": 6,
      "outputs": [
        {
          "output_type": "stream",
          "text": [
            "(1, 2, 3)\n",
            "(1, 3, 2)\n",
            "(2, 1, 3)\n",
            "(2, 3, 1)\n",
            "(3, 1, 2)\n",
            "(3, 2, 1)\n"
          ],
          "name": "stdout"
        }
      ]
    }
  ]
}