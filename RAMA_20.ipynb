{
  "nbformat": 4,
  "nbformat_minor": 0,
  "metadata": {
    "colab": {
      "name": "RAMA_20.ipynb",
      "provenance": [],
      "authorship_tag": "ABX9TyO4aVkp9yJD5XxqaL2uomWD",
      "include_colab_link": true
    },
    "kernelspec": {
      "name": "python3",
      "display_name": "Python 3"
    }
  },
  "cells": [
    {
      "cell_type": "markdown",
      "metadata": {
        "id": "view-in-github",
        "colab_type": "text"
      },
      "source": [
        "<a href=\"https://colab.research.google.com/github/RamaGitam/Skill-Devlopment-IV/blob/main/RAMA_20.ipynb\" target=\"_parent\"><img src=\"https://colab.research.google.com/assets/colab-badge.svg\" alt=\"Open In Colab\"/></a>"
      ]
    },
    {
      "cell_type": "markdown",
      "metadata": {
        "id": "KWnMEes2e83L"
      },
      "source": [
        "### PERMUTATIONS\n",
        "\n",
        "```\n",
        "# This is formatted as code\n",
        "```\n",
        "\n"
      ]
    },
    {
      "cell_type": "code",
      "metadata": {
        "id": "q2mxhABwO4ar"
      },
      "source": [
        "from itertools import permutations"
      ],
      "execution_count": 3,
      "outputs": []
    },
    {
      "cell_type": "code",
      "metadata": {
        "colab": {
          "base_uri": "https://localhost:8080/"
        },
        "id": "Qx9Qm4jsPbOQ",
        "outputId": "94f52ab7-5cd9-4916-eb69-cb60cace1d49"
      },
      "source": [
        "# Get all permutations of [1, 2, 3]\n",
        "perm = permutations([1, 2, 3])\n",
        "\n",
        "# print the obtained permutations\n",
        "for i in list(perm):\n",
        "  print (i)"
      ],
      "execution_count": 18,
      "outputs": [
        {
          "output_type": "stream",
          "text": [
            "(1, 2, 3)\n",
            "(1, 3, 2)\n",
            "(2, 1, 3)\n",
            "(2, 3, 1)\n",
            "(3, 1, 2)\n",
            "(3, 2, 1)\n"
          ],
          "name": "stdout"
        }
      ]
    },
    {
      "cell_type": "code",
      "metadata": {
        "colab": {
          "base_uri": "https://localhost:8080/"
        },
        "id": "KlrQ_Y8cSWcX",
        "outputId": "ba4bb9e6-1eb9-4dc5-ff52-a0693d820b8f"
      },
      "source": [
        "# find the permutation of a list of three items by defining the length\n",
        "perm = permutations([1, 2, 3], 2)\n",
        "\n",
        "# Print the obtained permutations\n",
        "for i in list(perm):\n",
        "    print (i)"
      ],
      "execution_count": 10,
      "outputs": [
        {
          "output_type": "stream",
          "text": [
            "(1, 2)\n",
            "(1, 3)\n",
            "(2, 1)\n",
            "(2, 3)\n",
            "(3, 1)\n",
            "(3, 2)\n"
          ],
          "name": "stdout"
        }
      ]
    },
    {
      "cell_type": "code",
      "metadata": {
        "colab": {
          "base_uri": "https://localhost:8080/"
        },
        "id": "REr6ExA_U7Y_",
        "outputId": "64bf85f8-b99d-48b6-9dc6-011bcb508aa8"
      },
      "source": [
        "# find the permutation of a list of three items.\n",
        "seq = permutations(['1', '2', '3'])\n",
        "\n",
        "for i in list(seq):\n",
        "  print (i)"
      ],
      "execution_count": 21,
      "outputs": [
        {
          "output_type": "stream",
          "text": [
            "('1', '2', '3')\n",
            "('1', '3', '2')\n",
            "('2', '1', '3')\n",
            "('2', '3', '1')\n",
            "('3', '1', '2')\n",
            "('3', '2', '1')\n"
          ],
          "name": "stdout"
        }
      ]
    },
    {
      "cell_type": "code",
      "metadata": {
        "colab": {
          "base_uri": "https://localhost:8080/"
        },
        "id": "JB9KmvuIVlXe",
        "outputId": "f70aeb12-1164-4f6b-db10-b0a623b7d9f6"
      },
      "source": [
        "# Permutation of Number as Character\n",
        "cseq = permutations(['A', 'B', 'C'])\n",
        "\n",
        "for i in list(cseq):\n",
        "  print (i)"
      ],
      "execution_count": 22,
      "outputs": [
        {
          "output_type": "stream",
          "text": [
            "('A', 'B', 'C')\n",
            "('A', 'C', 'B')\n",
            "('B', 'A', 'C')\n",
            "('B', 'C', 'A')\n",
            "('C', 'A', 'B')\n",
            "('C', 'B', 'A')\n"
          ],
          "name": "stdout"
        }
      ]
    },
    {
      "cell_type": "code",
      "metadata": {
        "colab": {
          "base_uri": "https://localhost:8080/"
        },
        "id": "ka0oAo8SV2uu",
        "outputId": "613a6355-f554-4f85-dc4c-cc7c8b85faa8"
      },
      "source": [
        "# Find the permutation by defining the length (3) of the permutation.\n",
        "cseq = permutations(['A', 'B', 'C'], 3)\n",
        "\n",
        "for i in list(cseq):\n",
        "  print (i)"
      ],
      "execution_count": 23,
      "outputs": [
        {
          "output_type": "stream",
          "text": [
            "('A', 'B', 'C')\n",
            "('A', 'C', 'B')\n",
            "('B', 'A', 'C')\n",
            "('B', 'C', 'A')\n",
            "('C', 'A', 'B')\n",
            "('C', 'B', 'A')\n"
          ],
          "name": "stdout"
        }
      ]
    },
    {
      "cell_type": "code",
      "metadata": {
        "colab": {
          "base_uri": "https://localhost:8080/"
        },
        "id": "Pa1FYfLZWI2S",
        "outputId": "6f4e1d6e-6181-4ff3-df3b-f7747c0a08d8"
      },
      "source": [
        "# Permutation of Character for fixed length 3\n",
        "cseq = permutations(['h', 'e', 'l', 'l', 'o'], 3)\n",
        "\n",
        "for i in list(cseq):\n",
        "  print (i)"
      ],
      "execution_count": 24,
      "outputs": [
        {
          "output_type": "stream",
          "text": [
            "('h', 'e', 'l')\n",
            "('h', 'e', 'l')\n",
            "('h', 'e', 'o')\n",
            "('h', 'l', 'e')\n",
            "('h', 'l', 'l')\n",
            "('h', 'l', 'o')\n",
            "('h', 'l', 'e')\n",
            "('h', 'l', 'l')\n",
            "('h', 'l', 'o')\n",
            "('h', 'o', 'e')\n",
            "('h', 'o', 'l')\n",
            "('h', 'o', 'l')\n",
            "('e', 'h', 'l')\n",
            "('e', 'h', 'l')\n",
            "('e', 'h', 'o')\n",
            "('e', 'l', 'h')\n",
            "('e', 'l', 'l')\n",
            "('e', 'l', 'o')\n",
            "('e', 'l', 'h')\n",
            "('e', 'l', 'l')\n",
            "('e', 'l', 'o')\n",
            "('e', 'o', 'h')\n",
            "('e', 'o', 'l')\n",
            "('e', 'o', 'l')\n",
            "('l', 'h', 'e')\n",
            "('l', 'h', 'l')\n",
            "('l', 'h', 'o')\n",
            "('l', 'e', 'h')\n",
            "('l', 'e', 'l')\n",
            "('l', 'e', 'o')\n",
            "('l', 'l', 'h')\n",
            "('l', 'l', 'e')\n",
            "('l', 'l', 'o')\n",
            "('l', 'o', 'h')\n",
            "('l', 'o', 'e')\n",
            "('l', 'o', 'l')\n",
            "('l', 'h', 'e')\n",
            "('l', 'h', 'l')\n",
            "('l', 'h', 'o')\n",
            "('l', 'e', 'h')\n",
            "('l', 'e', 'l')\n",
            "('l', 'e', 'o')\n",
            "('l', 'l', 'h')\n",
            "('l', 'l', 'e')\n",
            "('l', 'l', 'o')\n",
            "('l', 'o', 'h')\n",
            "('l', 'o', 'e')\n",
            "('l', 'o', 'l')\n",
            "('o', 'h', 'e')\n",
            "('o', 'h', 'l')\n",
            "('o', 'h', 'l')\n",
            "('o', 'e', 'h')\n",
            "('o', 'e', 'l')\n",
            "('o', 'e', 'l')\n",
            "('o', 'l', 'h')\n",
            "('o', 'l', 'e')\n",
            "('o', 'l', 'l')\n",
            "('o', 'l', 'h')\n",
            "('o', 'l', 'e')\n",
            "('o', 'l', 'l')\n"
          ],
          "name": "stdout"
        }
      ]
    },
    {
      "cell_type": "code",
      "metadata": {
        "colab": {
          "base_uri": "https://localhost:8080/"
        },
        "id": "KOqYcGL_iKgX",
        "outputId": "2b975a45-813a-4f7e-85aa-ddbb5fae4df9"
      },
      "source": [
        "#Permutations of a Python string\n",
        "st = \"ABC\"\n",
        "per = permutations(st)\n",
        "for val in per:\n",
        "    print(val)"
      ],
      "execution_count": 27,
      "outputs": [
        {
          "output_type": "stream",
          "text": [
            "('A', 'B', 'C')\n",
            "('A', 'C', 'B')\n",
            "('B', 'A', 'C')\n",
            "('B', 'C', 'A')\n",
            "('C', 'A', 'B')\n",
            "('C', 'B', 'A')\n"
          ],
          "name": "stdout"
        }
      ]
    },
    {
      "cell_type": "code",
      "metadata": {
        "colab": {
          "base_uri": "https://localhost:8080/"
        },
        "id": "m_OAK4cfiu97",
        "outputId": "d036034d-ab49-4047-f871-34800721c770"
      },
      "source": [
        "#Permutations of a Python string\n",
        "st = \"ABC\"\n",
        "per = permutations(st)\n",
        "for val in per:\n",
        "    print(*val)"
      ],
      "execution_count": 28,
      "outputs": [
        {
          "output_type": "stream",
          "text": [
            "A B C\n",
            "A C B\n",
            "B A C\n",
            "B C A\n",
            "C A B\n",
            "C B A\n"
          ],
          "name": "stdout"
        }
      ]
    },
    {
      "cell_type": "code",
      "metadata": {
        "colab": {
          "base_uri": "https://localhost:8080/"
        },
        "id": "DwKRuv7NizNa",
        "outputId": "3503d586-c0c8-4d0f-8ec0-b6b14063dc7c"
      },
      "source": [
        "import itertools\n",
        "val = [1, 2, 3, 4]\n",
        "  \n",
        "perm_set = itertools.permutations(val,2)\n",
        "  \n",
        "for i in perm_set:\n",
        "    print(i)"
      ],
      "execution_count": 29,
      "outputs": [
        {
          "output_type": "stream",
          "text": [
            "(1, 2)\n",
            "(1, 3)\n",
            "(1, 4)\n",
            "(2, 1)\n",
            "(2, 3)\n",
            "(2, 4)\n",
            "(3, 1)\n",
            "(3, 2)\n",
            "(3, 4)\n",
            "(4, 1)\n",
            "(4, 2)\n",
            "(4, 3)\n"
          ],
          "name": "stdout"
        }
      ]
    },
    {
      "cell_type": "code",
      "metadata": {
        "colab": {
          "base_uri": "https://localhost:8080/"
        },
        "id": "NgW4L1ECjUqH",
        "outputId": "f10059dd-636a-40aa-cc2e-58ebb1f4513e"
      },
      "source": [
        "import itertools\n",
        "  \n",
        "val = \"ABCD\"\n",
        "  \n",
        "com_set = itertools.permutations(val, 2)\n",
        "  \n",
        "for i in com_set:\n",
        "    print(i)"
      ],
      "execution_count": 33,
      "outputs": [
        {
          "output_type": "stream",
          "text": [
            "('A', 'B')\n",
            "('A', 'C')\n",
            "('A', 'D')\n",
            "('B', 'A')\n",
            "('B', 'C')\n",
            "('B', 'D')\n",
            "('C', 'A')\n",
            "('C', 'B')\n",
            "('C', 'D')\n",
            "('D', 'A')\n",
            "('D', 'B')\n",
            "('D', 'C')\n"
          ],
          "name": "stdout"
        }
      ]
    }
  ]
}