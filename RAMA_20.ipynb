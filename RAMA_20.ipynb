{
  "nbformat": 4,
  "nbformat_minor": 0,
  "metadata": {
    "colab": {
      "name": "RAMA_20.ipynb",
      "provenance": [],
      "authorship_tag": "ABX9TyNkdbMTBoeTx3pWfusVYlS8",
      "include_colab_link": true
    },
    "kernelspec": {
      "name": "python3",
      "display_name": "Python 3"
    }
  },
  "cells": [
    {
      "cell_type": "markdown",
      "metadata": {
        "id": "view-in-github",
        "colab_type": "text"
      },
      "source": [
        "<a href=\"https://colab.research.google.com/github/RamaGitam/Skill-Devlopment-IV/blob/main/RAMA_20.ipynb\" target=\"_parent\"><img src=\"https://colab.research.google.com/assets/colab-badge.svg\" alt=\"Open In Colab\"/></a>"
      ]
    },
    {
      "cell_type": "markdown",
      "metadata": {
        "id": "KWnMEes2e83L"
      },
      "source": [
        "### FIRST PROGRAM\n",
        "\n",
        "```\n",
        "# This is formatted as code\n",
        "```\n",
        "\n"
      ]
    },
    {
      "cell_type": "code",
      "metadata": {
        "id": "q2mxhABwO4ar"
      },
      "source": [
        "from itertools import permutations"
      ],
      "execution_count": 3,
      "outputs": []
    },
    {
      "cell_type": "code",
      "metadata": {
        "colab": {
          "base_uri": "https://localhost:8080/"
        },
        "id": "Qx9Qm4jsPbOQ",
        "outputId": "94f52ab7-5cd9-4916-eb69-cb60cace1d49"
      },
      "source": [
        "# Get all permutations of [1, 2, 3]\n",
        "perm = permutations([1, 2, 3])\n",
        "\n",
        "# print the obtained permutations\n",
        "for i in list(perm):\n",
        "  print (i)"
      ],
      "execution_count": 18,
      "outputs": [
        {
          "output_type": "stream",
          "text": [
            "(1, 2, 3)\n",
            "(1, 3, 2)\n",
            "(2, 1, 3)\n",
            "(2, 3, 1)\n",
            "(3, 1, 2)\n",
            "(3, 2, 1)\n"
          ],
          "name": "stdout"
        }
      ]
    },
    {
      "cell_type": "code",
      "metadata": {
        "colab": {
          "base_uri": "https://localhost:8080/"
        },
        "id": "KlrQ_Y8cSWcX",
        "outputId": "ba4bb9e6-1eb9-4dc5-ff52-a0693d820b8f"
      },
      "source": [
        "#Permutaion of given length 2\n",
        "perm = permutations([1, 2, 3], 2)\n",
        "\n",
        "# Print the obtained permutations\n",
        "for i in list(perm):\n",
        "    print (i)"
      ],
      "execution_count": 10,
      "outputs": [
        {
          "output_type": "stream",
          "text": [
            "(1, 2)\n",
            "(1, 3)\n",
            "(2, 1)\n",
            "(2, 3)\n",
            "(3, 1)\n",
            "(3, 2)\n"
          ],
          "name": "stdout"
        }
      ]
    }
  ]
}