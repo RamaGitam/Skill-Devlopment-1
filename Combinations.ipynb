{
  "nbformat": 4,
  "nbformat_minor": 0,
  "metadata": {
    "colab": {
      "name": "Combinations.ipynb",
      "provenance": [],
      "authorship_tag": "ABX9TyNfPJjKXSnfWG2/8zMwuwS7",
      "include_colab_link": true
    },
    "kernelspec": {
      "name": "python3",
      "display_name": "Python 3"
    },
    "language_info": {
      "name": "python"
    }
  },
  "cells": [
    {
      "cell_type": "markdown",
      "metadata": {
        "id": "view-in-github",
        "colab_type": "text"
      },
      "source": [
        "<a href=\"https://colab.research.google.com/github/RamaGitam/Skill-Devlopment-IV/blob/main/Combinations.ipynb\" target=\"_parent\"><img src=\"https://colab.research.google.com/assets/colab-badge.svg\" alt=\"Open In Colab\"/></a>"
      ]
    },
    {
      "cell_type": "code",
      "metadata": {
        "id": "eHq_OQYMK4zY",
        "colab": {
          "base_uri": "https://localhost:8080/"
        },
        "outputId": "56394439-683d-47e4-c78a-c76e23ee70fd"
      },
      "source": [
        "# 1. Out of 7 consonants how many words of 3 consonants can be formed? Use user written factorial function/without using any math library or itertools.\n",
        "\n",
        "def fact(n):\n",
        "\n",
        "  if n == 0:\n",
        "    return 1\n",
        "\n",
        "  else:\n",
        "\n",
        "    return n*fact(n-1)\n",
        "\n",
        "consonants = int(input(\"Enter total number of consonants: \"))\n",
        "word = int(input(\"Enter the number consonants used in each word: \"))\n",
        "\n",
        "combination = fact(consonants)/(fact(word) * fact(consonants - word))\n",
        "\n",
        "print(\"The Answer for this comibnation is: \", int(combination ))\n"
      ],
      "execution_count": 5,
      "outputs": [
        {
          "output_type": "stream",
          "text": [
            "Enter total number of consonants: 7\n",
            "Enter the number consonants used in each word: 3\n",
            "The Answer for this comibnation is:  35\n"
          ],
          "name": "stdout"
        }
      ]
    },
    {
      "cell_type": "code",
      "metadata": {
        "colab": {
          "base_uri": "https://localhost:8080/"
        },
        "id": "MHKNqFBX_i5f",
        "outputId": "16419c04-a3c8-4486-b04c-c52b15773c19"
      },
      "source": [
        "# 2. Out of 4 vowels how many words of 2 vowels can be formed? Use user written factorial function/without using any math library or itertools.\n",
        "\n",
        "def fact(n):\n",
        "\n",
        "  if n == 0:\n",
        "    return 1\n",
        "\n",
        "  else:\n",
        "\n",
        "    return n*fact(n-1)\n",
        "\n",
        "vowels = int(input(\"Enter total number of consonants: \"))\n",
        "word = int(input(\"Enter the number consonants used in each word: \"))\n",
        "\n",
        "combination = fact(vowels)/(fact(word) * fact(vowels - word))\n",
        "\n",
        "print(\"The Answer for this comibnation is: \", int(combination ))"
      ],
      "execution_count": 6,
      "outputs": [
        {
          "output_type": "stream",
          "text": [
            "Enter total number of consonants: 4\n",
            "Enter the number consonants used in each word: 2\n",
            "The Answer for this comibnation is:  6\n"
          ],
          "name": "stdout"
        }
      ]
    },
    {
      "cell_type": "code",
      "metadata": {
        "colab": {
          "base_uri": "https://localhost:8080/"
        },
        "id": "Wyw32IOcAS8b",
        "outputId": "c9d87938-ea5c-47a4-fc5a-57a9ea994586"
      },
      "source": [
        "# 3. Out of 7 consonants and 4 vowels, how many words of 3 consonants and 2 vowels can be formed? Use user written factorial function/without using any math library or itertools.\n",
        "\n",
        "\n",
        "def fact(n):\n",
        "\n",
        "  if n == 0:\n",
        "    return 1\n",
        "\n",
        "  else:\n",
        "\n",
        "    return n*fact(n-1)\n",
        "\n",
        "n1 = int(input(\"Enter total number of consonants: \"))\n",
        "r1 = int(input(\"Enter the number consonants used in each word: \"))\n",
        "\n",
        "n2 = int(input(\"Enter total number of vowels: \"))\n",
        "r2 = int(input(\"Enter the number vowels used in each word: \"))\n",
        "\n",
        "c1 = fact(n1)/(fact(r1) * fact(n1 - r1))\n",
        "c2 = fact(n2)/(fact(r2) * fact(n2 - r2))\n",
        "\n",
        "net_combination = c1 * c2\n",
        "\n",
        "print(\"The Answer for this comibnation is: \", int(net_combination))"
      ],
      "execution_count": 10,
      "outputs": [
        {
          "output_type": "stream",
          "text": [
            "Enter total number of consonants: 7\n",
            "Enter the number consonants used in each word: 3\n",
            "Enter total number of vowels: 4\n",
            "Enter the number vowels used in each word: 2\n",
            "The Answer for this comibnation is:  210\n"
          ],
          "name": "stdout"
        }
      ]
    }
  ]
}