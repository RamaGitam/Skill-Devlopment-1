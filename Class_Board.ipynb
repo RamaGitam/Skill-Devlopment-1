{
  "nbformat": 4,
  "nbformat_minor": 0,
  "metadata": {
    "colab": {
      "name": "Class_Board.ipynb",
      "provenance": [],
      "authorship_tag": "ABX9TyOqjYeS2i0XAfRzKU97Bmnd",
      "include_colab_link": true
    },
    "kernelspec": {
      "name": "python3",
      "display_name": "Python 3"
    },
    "language_info": {
      "name": "python"
    }
  },
  "cells": [
    {
      "cell_type": "markdown",
      "metadata": {
        "id": "view-in-github",
        "colab_type": "text"
      },
      "source": [
        "<a href=\"https://colab.research.google.com/github/RamaGitam/Skill-Devlopment-IV/blob/main/Class_Board.ipynb\" target=\"_parent\"><img src=\"https://colab.research.google.com/assets/colab-badge.svg\" alt=\"Open In Colab\"/></a>"
      ]
    },
    {
      "cell_type": "markdown",
      "metadata": {
        "id": "1U_k6RS5MOHv"
      },
      "source": [
        "###**Recursion**\n"
      ]
    },
    {
      "cell_type": "code",
      "metadata": {
        "colab": {
          "base_uri": "https://localhost:8080/"
        },
        "id": "Cua2vmzJMbVE",
        "outputId": "6905d9d9-89cb-45a7-ee53-4ebc47765984"
      },
      "source": [
        "# Iterative method\n",
        "def gitam():\n",
        "\n",
        "  for i in range(5):\n",
        "    print(\"Hello Gitam\")\n",
        "\n",
        "gitam()"
      ],
      "execution_count": 4,
      "outputs": [
        {
          "output_type": "stream",
          "text": [
            "Hello Gitam\n",
            "Hello Gitam\n",
            "Hello Gitam\n",
            "Hello Gitam\n",
            "Hello Gitam\n"
          ],
          "name": "stdout"
        }
      ]
    },
    {
      "cell_type": "code",
      "metadata": {
        "colab": {
          "base_uri": "https://localhost:8080/"
        },
        "id": "m73asFnENvtu",
        "outputId": "d01e584d-bdb8-4bb0-b662-356202df75d0"
      },
      "source": [
        "#Recursion\n",
        "def gitam():\n",
        "\n",
        "  print(\"Hello Gitam\")\n",
        "\n",
        "gitam()"
      ],
      "execution_count": 6,
      "outputs": [
        {
          "output_type": "stream",
          "text": [
            "Hello Gitam\n"
          ],
          "name": "stdout"
        }
      ]
    },
    {
      "cell_type": "code",
      "metadata": {
        "colab": {
          "base_uri": "https://localhost:8080/"
        },
        "id": "yga7XOm4Rl4M",
        "outputId": "da55e0bd-d99a-4474-972b-f0c616459055"
      },
      "source": [
        "# Iteration\n",
        "n = int(input('Enter a number:'))\n",
        "\n",
        "fact = 1\n",
        "\n",
        "for i in range(n,0,-1):\n",
        "\n",
        "  if n == 1 or n == 0:\n",
        "    break\n",
        "\n",
        "  fact = fact*i\n",
        "\n",
        "print(fact)"
      ],
      "execution_count": 14,
      "outputs": [
        {
          "output_type": "stream",
          "text": [
            "Enter a number:5\n",
            "120\n"
          ],
          "name": "stdout"
        }
      ]
    },
    {
      "cell_type": "code",
      "metadata": {
        "colab": {
          "base_uri": "https://localhost:8080/"
        },
        "id": "Uit3lCSsSWI2",
        "outputId": "94812e57-e3dc-43aa-d0fd-dddd00a110f3"
      },
      "source": [
        "#Recursion\n",
        "\n",
        "def fact(n):\n",
        "\n",
        "  if n == 0:\n",
        "    return 1\n",
        "\n",
        "  else:\n",
        "\n",
        "    return n*fact(n-1)\n",
        "\n",
        "\n",
        "result = fact(5)\n",
        "print(result)\n",
        "  \n"
      ],
      "execution_count": 16,
      "outputs": [
        {
          "output_type": "stream",
          "text": [
            "120\n"
          ],
          "name": "stdout"
        }
      ]
    },
    {
      "cell_type": "markdown",
      "metadata": {
        "id": "QOVQk-byWeHL"
      },
      "source": [
        ""
      ]
    },
    {
      "cell_type": "markdown",
      "metadata": {
        "id": "O47YDXYNWePM"
      },
      "source": [
        "10 = 10 9 8 7 ...... 1"
      ]
    }
  ]
}