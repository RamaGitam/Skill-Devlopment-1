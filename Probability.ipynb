{
  "nbformat": 4,
  "nbformat_minor": 0,
  "metadata": {
    "colab": {
      "name": "Probability.ipynb",
      "provenance": [],
      "authorship_tag": "ABX9TyP5SvFbV+q0yBtFup6k8GAM",
      "include_colab_link": true
    },
    "kernelspec": {
      "name": "python3",
      "display_name": "Python 3"
    },
    "language_info": {
      "name": "python"
    }
  },
  "cells": [
    {
      "cell_type": "markdown",
      "metadata": {
        "id": "view-in-github",
        "colab_type": "text"
      },
      "source": [
        "<a href=\"https://colab.research.google.com/github/RamaGitam/Skill-Devlopment-IV/blob/main/Probability.ipynb\" target=\"_parent\"><img src=\"https://colab.research.google.com/assets/colab-badge.svg\" alt=\"Open In Colab\"/></a>"
      ]
    },
    {
      "cell_type": "code",
      "metadata": {
        "colab": {
          "base_uri": "https://localhost:8080/"
        },
        "id": "-xUJ7HWL1HTs",
        "outputId": "4f1ff2f7-131d-452f-bbe2-c47ba0d90419"
      },
      "source": [
        "A = {1,2,3,4,9}\n",
        "B = {4,5}\n",
        "\n",
        "print( 1 in A)"
      ],
      "execution_count": null,
      "outputs": [
        {
          "output_type": "stream",
          "name": "stdout",
          "text": [
            "True\n"
          ]
        }
      ]
    },
    {
      "cell_type": "code",
      "metadata": {
        "colab": {
          "base_uri": "https://localhost:8080/"
        },
        "id": "X9ksnnDz12Er",
        "outputId": "759d236f-f5d5-4bc6-880e-8aab62b0026a"
      },
      "source": [
        "A = {1,2,3,4,9}\n",
        "B = {4,5}\n",
        "\n",
        "flag = 1 in A\n",
        "type(flag)"
      ],
      "execution_count": null,
      "outputs": [
        {
          "output_type": "execute_result",
          "data": {
            "text/plain": [
              "bool"
            ]
          },
          "metadata": {},
          "execution_count": 3
        }
      ]
    },
    {
      "cell_type": "code",
      "metadata": {
        "colab": {
          "base_uri": "https://localhost:8080/"
        },
        "id": "f45WQ2Th2GMb",
        "outputId": "1da48c48-2245-4b8d-a372-c2ef27dcbf1a"
      },
      "source": [
        "A = {1,2,3,4,9}\n",
        "B = {4,5}\n",
        "\n",
        "print(B.issubset(A))"
      ],
      "execution_count": null,
      "outputs": [
        {
          "output_type": "stream",
          "name": "stdout",
          "text": [
            "False\n"
          ]
        }
      ]
    },
    {
      "cell_type": "code",
      "metadata": {
        "colab": {
          "base_uri": "https://localhost:8080/"
        },
        "id": "GpwgZvAB2Qya",
        "outputId": "b2690f75-180c-47f1-b3b0-8df6c9b079e8"
      },
      "source": [
        "A = {1,2,3,4,9}\n",
        "B = {4,9}\n",
        "\n",
        "print(B.issubset(A))"
      ],
      "execution_count": null,
      "outputs": [
        {
          "output_type": "stream",
          "name": "stdout",
          "text": [
            "True\n"
          ]
        }
      ]
    },
    {
      "cell_type": "code",
      "metadata": {
        "id": "10SX0tb52ZGL",
        "colab": {
          "base_uri": "https://localhost:8080/"
        },
        "outputId": "4c4f63f3-35cc-4237-8e3a-3d743ea8abe6"
      },
      "source": [
        "def check_subset(B,A):\n",
        "\n",
        "  for e in B:\n",
        "    if  e in A:\n",
        "      pass\n",
        "    else:\n",
        "      return False\n",
        "\n",
        "  return True\n",
        "\n",
        "\n",
        "A = {1,2,3,4,9}\n",
        "B = {4,5}\n",
        "\n",
        "print(check_subset(A,B))"
      ],
      "execution_count": null,
      "outputs": [
        {
          "output_type": "stream",
          "name": "stdout",
          "text": [
            "False\n"
          ]
        }
      ]
    },
    {
      "cell_type": "code",
      "metadata": {
        "id": "9dkz91Cb71O1",
        "colab": {
          "base_uri": "https://localhost:8080/"
        },
        "outputId": "1401640b-8524-4a05-fd25-eb30b4779cb4"
      },
      "source": [
        "import numpy as np\n",
        "\n",
        "uset = set(np.arange(10))\n",
        "\n",
        "type(uset)\n",
        "\n",
        "uset"
      ],
      "execution_count": null,
      "outputs": [
        {
          "output_type": "stream",
          "name": "stdout",
          "text": [
            "{0, 1, 2, 3, 4, 5, 6, 7, 8, 9}\n"
          ]
        }
      ]
    },
    {
      "cell_type": "code",
      "metadata": {
        "colab": {
          "base_uri": "https://localhost:8080/"
        },
        "id": "ek1XTHHdAWDC",
        "outputId": "f0ee4d84-0b91-47e4-c161-22be35ae889d"
      },
      "source": [
        "import numpy as np\n",
        "\n",
        "A = set(np.arange(0,9,2))\n",
        "\n",
        "B = set(np.arange(1,9,3))\n",
        "\n",
        "print(\"Set A: \", A)\n",
        "print(\"Set B: \",B)\n",
        "\n",
        "print(\"\\nUnion: \", A.union(B))\n",
        "\n",
        "print(\"\\nIntersection: \", A.intersection(B))\n",
        "\n",
        "print(\"\\nDifference: \", A.difference(B))"
      ],
      "execution_count": null,
      "outputs": [
        {
          "output_type": "stream",
          "name": "stdout",
          "text": [
            "Set A:  {0, 2, 4, 6, 8}\n",
            "Set B:  {1, 4, 7}\n",
            "\n",
            "Union:  {0, 1, 2, 4, 6, 7, 8}\n",
            "\n",
            "Intersection:  {4}\n",
            "\n",
            "Difference:  {0, 8, 2, 6}\n"
          ]
        }
      ]
    },
    {
      "cell_type": "code",
      "metadata": {
        "colab": {
          "base_uri": "https://localhost:8080/"
        },
        "id": "fpdecLnKB1i6",
        "outputId": "577cc0cf-2ab6-42fb-9484-7ed029579934"
      },
      "source": [
        "import numpy as np\n",
        "\n",
        "A = set(np.arange(0,9,2))\n",
        "\n",
        "B = set(np.arange(1,9,3))\n",
        "\n",
        "print(\"Set A: \", A)\n",
        "print(\"Set B: \",B)\n",
        "\n",
        "B.add(9)\n",
        "\n",
        "print(\"\\nSet B: \",B)"
      ],
      "execution_count": null,
      "outputs": [
        {
          "output_type": "stream",
          "name": "stdout",
          "text": [
            "Set A:  {0, 2, 4, 6, 8}\n",
            "Set B:  {1, 4, 7}\n",
            "\n",
            "Set B:  {1, 4, 9, 7}\n"
          ]
        }
      ]
    },
    {
      "cell_type": "code",
      "metadata": {
        "colab": {
          "base_uri": "https://localhost:8080/"
        },
        "id": "dOcDJ1myCefM",
        "outputId": "0c52d48e-4723-4f49-c1cc-44ae819b7ed3"
      },
      "source": [
        "import numpy as np\n",
        "\n",
        "uset = set(np.arange(10))\n",
        "A = set(np.arange(0,9,2))\n",
        "\n",
        "print(\"Universal Set: \", uset)\n",
        "print(\"\\nSet A: \", A)\n",
        "\n",
        "A_Complement = uset.difference(A)\n",
        "\n",
        "print(\"\\nComplement of A: \", A_Complement)\n"
      ],
      "execution_count": null,
      "outputs": [
        {
          "output_type": "stream",
          "name": "stdout",
          "text": [
            "Universal Set:  {0, 1, 2, 3, 4, 5, 6, 7, 8, 9}\n",
            "\n",
            "Set A:  {0, 2, 4, 6, 8}\n",
            "\n",
            "Complement of A:  {1, 3, 5, 7, 9}\n"
          ]
        }
      ]
    },
    {
      "cell_type": "code",
      "metadata": {
        "colab": {
          "base_uri": "https://localhost:8080/"
        },
        "id": "txAp29JHDWXa",
        "outputId": "ab9f2e89-b540-4a38-8fca-06f6626b9661"
      },
      "source": [
        "import numpy as np\n",
        "\n",
        "uset = set(np.arange(10))\n",
        "\n",
        "A = set(np.arange(0,9,2))\n",
        "B = set(np.arange(1,9,3))\n",
        "\n",
        "print(\"Universal Set: \", uset)\n",
        "print(\"\\nSet A: \", A)\n",
        "print(\"\\nSet B: \", B)\n",
        "\n",
        "AUB = A.union(B)\n",
        "\n",
        "print(\"\\n A U B: \", AUB)\n",
        "\n",
        "AUB_Complement = uset.difference(AUB)\n",
        "\n",
        "print(\"\\nComplement of A: \", AUB_Complement)"
      ],
      "execution_count": null,
      "outputs": [
        {
          "output_type": "stream",
          "name": "stdout",
          "text": [
            "Universal Set:  {0, 1, 2, 3, 4, 5, 6, 7, 8, 9}\n",
            "\n",
            "Set A:  {0, 2, 4, 6, 8}\n",
            "\n",
            "Set B:  {1, 4, 7}\n",
            "\n",
            " A U B:  {0, 1, 2, 4, 6, 7, 8}\n",
            "\n",
            "Complement of A:  {9, 3, 5}\n"
          ]
        }
      ]
    },
    {
      "cell_type": "code",
      "metadata": {
        "id": "mcpz1-xVEqEh",
        "colab": {
          "base_uri": "https://localhost:8080/"
        },
        "outputId": "7d2d8f65-f30d-422b-de03-8f8be34d82a5"
      },
      "source": [
        "# Demorgan's Law (A U B)' = A' n B'\n",
        "\n",
        "import numpy as np\n",
        "\n",
        "U = set(np.arange(10))\n",
        "A = set(np.arange(0,9,2))\n",
        "B = set(np.arange(0,9,3))\n",
        "\n",
        "W = A.union(B)\n",
        "Q = U.difference(W)\n",
        "\n",
        "Ac = U.difference(A)\n",
        "Bc = U.difference(B)\n",
        "R = Ac.intersection(Bc)\n",
        "\n",
        "\n",
        "if Q==R:\n",
        "  print(\"True\")\n",
        "else:\n",
        "  print(\"False\")"
      ],
      "execution_count": null,
      "outputs": [
        {
          "output_type": "stream",
          "name": "stdout",
          "text": [
            "True\n"
          ]
        }
      ]
    },
    {
      "cell_type": "code",
      "metadata": {
        "colab": {
          "base_uri": "https://localhost:8080/"
        },
        "id": "O55uRRheYiu6",
        "outputId": "238ea138-9a12-4f5f-f49d-9ad19ab92029"
      },
      "source": [
        "from fractions import Fraction\n",
        "\n",
        "def p(event, space):\n",
        "\n",
        "  return Fraction(len(event & space), len(space))\n",
        "\n",
        "D = {1,2,3,4,5,6}\n",
        "even = {2,4,6}\n",
        "\n",
        "p(even, D)"
      ],
      "execution_count": null,
      "outputs": [
        {
          "output_type": "execute_result",
          "data": {
            "text/plain": [
              "Fraction(1, 2)"
            ]
          },
          "metadata": {},
          "execution_count": 1
        }
      ]
    },
    {
      "cell_type": "markdown",
      "metadata": {
        "id": "KlnVJE1TECAQ"
      },
      "source": [
        ""
      ]
    },
    {
      "cell_type": "code",
      "metadata": {
        "colab": {
          "base_uri": "https://localhost:8080/"
        },
        "id": "3fteLiGZEAzT",
        "outputId": "05c0ef9d-6f1c-4d35-dbd5-af2eb46b66ac"
      },
      "source": [
        "def event_probability(event_outcomes, sample_space):\n",
        "\n",
        "    probability = (event_outcomes / sample_space) * 100\n",
        "    \n",
        "    return round(probability, 1)\n",
        "\n",
        "# Sample Space\n",
        "cards = 52\n",
        "\n",
        "# Determine the probability of drawing a heart\n",
        "hearts = 13\n",
        "heart_probability = event_probability(hearts, cards)\n",
        "\n",
        "# Determine the probability of drawing a face card\n",
        "face_cards = 12\n",
        "face_card_probability = event_probability(face_cards, cards)\n",
        "\n",
        "# Determine the probability of drawing the queen of hearts\n",
        "queen_of_hearts = 1\n",
        "queen_of_hearts_probability = event_probability(queen_of_hearts, cards)\n",
        "\n",
        "# Print each probability\n",
        "print(str(heart_probability) + '%')\n",
        "print(str(face_card_probability) + '%')\n",
        "print(str(queen_of_hearts_probability) + '%')"
      ],
      "execution_count": 1,
      "outputs": [
        {
          "output_type": "stream",
          "name": "stdout",
          "text": [
            "25.0%\n",
            "23.1%\n",
            "1.9%\n"
          ]
        }
      ]
    },
    {
      "cell_type": "markdown",
      "metadata": {
        "id": "J0sB-bzI4m7W"
      },
      "source": [
        "**Q. In rolling a fair die, what's the probability of getting an odd number or number less than 4.**"
      ]
    },
    {
      "cell_type": "code",
      "metadata": {
        "colab": {
          "base_uri": "https://localhost:8080/"
        },
        "id": "enLv3QRB5P-W",
        "outputId": "2484ef0b-79c9-4050-c584-a92edefe1576"
      },
      "source": [
        "# A : Event of getting odd number\n",
        "# B : Event of getting number less than 4\n",
        "\n",
        "def event_probability(A, B, S):\n",
        "\n",
        "    probability = (len(A) + len(B) - len(A.intersection(B))) / len(S) * 100\n",
        "    \n",
        "    return round(probability, 1)\n",
        "\n",
        "S = {1,2,3,4,5,6}\n",
        "A = {1,3,5}\n",
        "B = {1,2,3}\n",
        "\n",
        "#probability = (event_outcomes / sample_space)\n",
        "# P(A U B) = (|A| + |B| - |A n B|) / |S|\n",
        "\n",
        "answer = event_probability(A,B,S) \n",
        "\n",
        "print(\"The answer is: \", round(answer,2))\n",
        "\n",
        "\n"
      ],
      "execution_count": 5,
      "outputs": [
        {
          "output_type": "stream",
          "name": "stdout",
          "text": [
            "The answer is:  66.7\n"
          ]
        }
      ]
    },
    {
      "cell_type": "markdown",
      "metadata": {
        "id": "hYoNgUhw8PqN"
      },
      "source": [
        "**Q. A box contains 10 screws, 3 of which are defective. 2 screws are drawn at random. Find the probability that non of the two screws are defective. Solve this under these two conditions (a) Without Replacement  (b) With Replacement**"
      ]
    },
    {
      "cell_type": "code",
      "metadata": {
        "id": "FdYma_Qu8vWk"
      },
      "source": [
        ""
      ],
      "execution_count": null,
      "outputs": []
    },
    {
      "cell_type": "markdown",
      "metadata": {
        "id": "d3kP04il9F8D"
      },
      "source": [
        "**Q. If a box contain 10 left handed and 20 right handed screws, what is the probability of obtaining atleast 1 right handed screw in drawing 2 screws (a)with replacement (b) without replacement.**"
      ]
    },
    {
      "cell_type": "code",
      "metadata": {
        "id": "_XgkIOdX9p4E"
      },
      "source": [
        "  "
      ],
      "execution_count": null,
      "outputs": []
    }
  ]
}