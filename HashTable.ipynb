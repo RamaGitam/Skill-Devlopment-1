{
  "nbformat": 4,
  "nbformat_minor": 0,
  "metadata": {
    "colab": {
      "name": "HashTable.ipynb",
      "provenance": [],
      "authorship_tag": "ABX9TyO7A6fXt00gtTKvdyorX9au",
      "include_colab_link": true
    },
    "kernelspec": {
      "name": "python3",
      "display_name": "Python 3"
    },
    "language_info": {
      "name": "python"
    }
  },
  "cells": [
    {
      "cell_type": "markdown",
      "metadata": {
        "id": "view-in-github",
        "colab_type": "text"
      },
      "source": [
        "<a href=\"https://colab.research.google.com/github/RamaGitam/Skill-Devlopment-IV/blob/main/HashTable.ipynb\" target=\"_parent\"><img src=\"https://colab.research.google.com/assets/colab-badge.svg\" alt=\"Open In Colab\"/></a>"
      ]
    },
    {
      "cell_type": "code",
      "metadata": {
        "id": "VT2tP-dlZtkH",
        "colab": {
          "base_uri": "https://localhost:8080/"
        },
        "outputId": "ff2ba4a9-47a7-4136-8092-9fa3e38984df"
      },
      "source": [
        "# Function to display hashtable\n",
        "def display_hash(hashTable):\n",
        "      \n",
        "    for i in range(len(hashTable)):\n",
        "        print(i, end = \" \")\n",
        "          \n",
        "        for j in hashTable[i]:\n",
        "            print(\"-->\", end = \" \")\n",
        "            print(j, end = \" \")\n",
        "              \n",
        "        print()\n",
        "  \n",
        "# Creating Hashtable as \n",
        "# a nested list.\n",
        "HashTable = [[] for _ in range(10)]\n",
        "  \n",
        "# Hashing Function to return \n",
        "# key for every value.\n",
        "def Hashing(keyvalue):\n",
        "    return keyvalue % len(HashTable)\n",
        "  \n",
        "  \n",
        "# Insert Function to add\n",
        "# values to the hash table\n",
        "def insert(Hashtable, keyvalue, value):\n",
        "      \n",
        "    hash_key = Hashing(keyvalue)\n",
        "    Hashtable[hash_key].append(value)\n",
        "  \n",
        "# Driver Code\n",
        "insert(HashTable, 10, 'Allahabad')\n",
        "insert(HashTable, 25, 'Mumbai')\n",
        "insert(HashTable, 20, 'Mathura')\n",
        "insert(HashTable, 9, 'Delhi')\n",
        "insert(HashTable, 21, 'Punjab')\n",
        "insert(HashTable, 21, 'Noida')\n",
        "  \n",
        "display_hash (HashTable)"
      ],
      "execution_count": null,
      "outputs": [
        {
          "output_type": "stream",
          "name": "stdout",
          "text": [
            "0 --> Allahabad --> Mathura \n",
            "1 --> Punjab --> Noida \n",
            "2 \n",
            "3 \n",
            "4 \n",
            "5 --> Mumbai \n",
            "6 \n",
            "7 \n",
            "8 \n",
            "9 --> Delhi \n"
          ]
        }
      ]
    },
    {
      "cell_type": "code",
      "metadata": {
        "colab": {
          "base_uri": "https://localhost:8080/"
        },
        "id": "Ccqs38gRZC_C",
        "outputId": "7a977ae2-cf3d-4605-e76d-2b412e3c8de6"
      },
      "source": [
        "hash_table = [[] for _ in range(10)]\n",
        "print (hash_table)\n",
        "\n",
        "def hashing_func(key):\n",
        "\treturn key % len(hash_table)\n",
        " \n",
        "def insert(hash_table, key, value):\n",
        "\thash_key = hash(key) % len(hash_table)\n",
        "\tkey_exists = False\n",
        "\tbucket = hash_table[hash_key]\t\n",
        "\tfor i, kv in enumerate(bucket):\n",
        "\t\tk, v = kv\n",
        "\t\tif key == k:\n",
        "\t\t\tkey_exists = True \n",
        "\t\t\tbreak\n",
        "\tif key_exists:\n",
        "\t\tbucket[i] = ((key, value))\n",
        "\telse:\n",
        "\t\tbucket.append((key, value))\n",
        "\n",
        "\n",
        "insert(hash_table, 10, 'Nepal')\n",
        "insert(hash_table, 25, 'USA')\n",
        "insert(hash_table, 20, 'India')\n",
        "print (\"\\n\", hash_table)\n",
        "\n",
        "def search(hash_table, key):\n",
        "\thash_key = hash(key) % len(hash_table)\t\n",
        "\tbucket = hash_table[hash_key]\n",
        "\tfor i, kv in enumerate(bucket):\n",
        "\t\tk, v = kv\n",
        "\t\tif key == k:\n",
        "\t\t\treturn v\n",
        "\n",
        "print (\"\\n\", search(hash_table, 10))\n",
        "print (\"\\n\", search(hash_table, 20))\n",
        "print (\"\\n\", search(hash_table, 30))"
      ],
      "execution_count": null,
      "outputs": [
        {
          "output_type": "stream",
          "name": "stdout",
          "text": [
            "[[], [], [], [], [], [], [], [], [], []]\n",
            "\n",
            " [[(10, 'Nepal'), (20, 'India')], [], [], [], [], [(25, 'USA')], [], [], [], []]\n",
            "\n",
            " Nepal\n",
            "\n",
            " India\n",
            "\n",
            " None\n"
          ]
        }
      ]
    },
    {
      "cell_type": "code",
      "metadata": {
        "colab": {
          "base_uri": "https://localhost:8080/"
        },
        "id": "nxPuX3ZY63ia",
        "outputId": "a24c0fff-44c3-46d2-d3d7-45c604e6b940"
      },
      "source": [
        "# Hashing Using List\n",
        "\n",
        "import csv\n",
        "\n",
        "stock_prices = []\n",
        "with open('/content/stock_prices.csv', \"r\") as f: \n",
        "    for line in f:\n",
        "        tokens = line.split(',')\n",
        "        day = tokens[0]\n",
        "        price = float(tokens[1])\n",
        "        stock_prices.append([day,price])\n",
        "\n",
        "print(\"\\n\", stock_prices)\n",
        "\n",
        "print(\"\\n\",stock_prices[0])\n",
        "\n",
        "for element in stock_prices: \n",
        "     if element[0] == '09-Mar':\n",
        "         print(\"\\n\",element[1])"
      ],
      "execution_count": null,
      "outputs": [
        {
          "output_type": "stream",
          "name": "stdout",
          "text": [
            "\n",
            " [['\\ufeff06-Mar', 263.0], ['07-Mar', 270.0], ['08-Mar', 230.0], ['09-Mar', 240.0], ['10-Mar', 250.0], ['11-Mar', 280.0]]\n",
            "\n",
            " ['\\ufeff06-Mar', 263.0]\n",
            "\n",
            " 240.0\n"
          ]
        }
      ]
    },
    {
      "cell_type": "code",
      "metadata": {
        "colab": {
          "resources": {
            "http://localhost:8080/nbextensions/google.colab/files.js": {
              "data": "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",
              "ok": true,
              "headers": [
                [
                  "content-type",
                  "application/javascript"
                ]
              ],
              "status": 200,
              "status_text": ""
            }
          },
          "base_uri": "https://localhost:8080/",
          "height": 182
        },
        "id": "gkHRQUfqE-Ua",
        "outputId": "c919d513-ddb7-491f-e84e-c9a3c03dbf98"
      },
      "source": [
        "# Hashing Using Dictionary\n",
        "\n",
        "import csv\n",
        "\n",
        "from google.colab import files\n",
        "uploaded = files.upload()\n",
        "\n",
        "stock_prices = {}\n",
        "\n",
        "with open('/content/stock_prices.csv', \"r\") as f: \n",
        "    for line in f:\n",
        "        tokens = line.split(',')\n",
        "        day = tokens[0]\n",
        "        price = tokens[1]\n",
        "        stock_prices[day] = price\n",
        "\n",
        "print(\"\\n\", stock_prices)\n",
        "\n",
        "print(\"\\n\", stock_prices[\"09-Mar\"])"
      ],
      "execution_count": null,
      "outputs": [
        {
          "output_type": "display_data",
          "data": {
            "text/html": [
              "\n",
              "     <input type=\"file\" id=\"files-0f7b4146-ecd0-4c87-9385-33cf36f269f6\" name=\"files[]\" multiple disabled\n",
              "        style=\"border:none\" />\n",
              "     <output id=\"result-0f7b4146-ecd0-4c87-9385-33cf36f269f6\">\n",
              "      Upload widget is only available when the cell has been executed in the\n",
              "      current browser session. Please rerun this cell to enable.\n",
              "      </output>\n",
              "      <script src=\"/nbextensions/google.colab/files.js\"></script> "
            ],
            "text/plain": [
              "<IPython.core.display.HTML object>"
            ]
          },
          "metadata": {}
        },
        {
          "output_type": "stream",
          "name": "stdout",
          "text": [
            "Saving stock_prices.csv to stock_prices.csv\n",
            "\n",
            " {'\\ufeff06-Mar': '310\\n', '07-Mar': '340\\n', '08-Mar': '380\\n', '09-Mar': '302\\n', '10-Mar': '297\\n', '11-Mar': '320\\n'}\n",
            "\n",
            " 302\n",
            "\n"
          ]
        }
      ]
    },
    {
      "cell_type": "code",
      "metadata": {
        "colab": {
          "base_uri": "https://localhost:8080/"
        },
        "id": "OgAqsawpmYsI",
        "outputId": "a5fb1c46-18a4-42b5-cb35-dd02a1e11568"
      },
      "source": [
        "def get_hash(key):\n",
        "    hash = 0\n",
        "    for char in key:\n",
        "        hash += ord(char)\n",
        "    return hash % 100\n",
        "    \n",
        "get_hash('march 6')"
      ],
      "execution_count": null,
      "outputs": [
        {
          "output_type": "execute_result",
          "data": {
            "text/plain": [
              "9"
            ]
          },
          "metadata": {},
          "execution_count": 73
        }
      ]
    },
    {
      "cell_type": "code",
      "metadata": {
        "colab": {
          "base_uri": "https://localhost:8080/"
        },
        "id": "4PvTfW5JBfdE",
        "outputId": "bd56f79e-be5e-40ef-a679-c14ea5a5c865"
      },
      "source": [
        "class HashTable:  \n",
        "    def __init__(self):\n",
        "        self.MAX = 100\n",
        "        self.arr = [None for i in range(self.MAX)]\n",
        "        \n",
        "    def get_hash(self, key):\n",
        "        hash = 0\n",
        "        for char in key:\n",
        "            hash += ord(char)\n",
        "        return hash % self.MAX\n",
        "    \n",
        "    def __getitem__(self, index):\n",
        "        h = self.get_hash(index)\n",
        "        return self.arr[h]\n",
        "    \n",
        "    def __setitem__(self, key, val):\n",
        "        h = self.get_hash(key)\n",
        "        self.arr[h] = val    \n",
        "        \n",
        "    def __delitem__(self, key):\n",
        "        h = self.get_hash(key)\n",
        "        self.arr[h] = None\n",
        "\n",
        "t = HashTable()\n",
        "t[\"march 6\"] = 310\n",
        "t[\"march 7\"] = 420\n",
        "\n",
        "print(t.arr)\n",
        "\n",
        "t[\"dec 30\"] = 88\n",
        "print(t.arr)\n",
        "print(t[\"dec 30\"])\n",
        "\n",
        "del t[\"march 6\"]\n",
        "print(t.arr)"
      ],
      "execution_count": 4,
      "outputs": [
        {
          "output_type": "stream",
          "name": "stdout",
          "text": [
            "[None, None, None, None, None, None, None, None, None, 310, 420, None, None, None, None, None, None, None, None, None, None, None, None, None, None, None, None, None, None, None, None, None, None, None, None, None, None, None, None, None, None, None, None, None, None, None, None, None, None, None, None, None, None, None, None, None, None, None, None, None, None, None, None, None, None, None, None, None, None, None, None, None, None, None, None, None, None, None, None, None, None, None, None, None, None, None, None, None, None, None, None, None, None, None, None, None, None, None, None, None]\n",
            "[None, None, None, None, None, None, None, None, None, 310, 420, None, None, None, None, None, None, None, None, None, None, None, None, None, None, None, None, None, None, None, None, 88, None, None, None, None, None, None, None, None, None, None, None, None, None, None, None, None, None, None, None, None, None, None, None, None, None, None, None, None, None, None, None, None, None, None, None, None, None, None, None, None, None, None, None, None, None, None, None, None, None, None, None, None, None, None, None, None, None, None, None, None, None, None, None, None, None, None, None, None]\n",
            "88\n",
            "[None, None, None, None, None, None, None, None, None, None, 420, None, None, None, None, None, None, None, None, None, None, None, None, None, None, None, None, None, None, None, None, 88, None, None, None, None, None, None, None, None, None, None, None, None, None, None, None, None, None, None, None, None, None, None, None, None, None, None, None, None, None, None, None, None, None, None, None, None, None, None, None, None, None, None, None, None, None, None, None, None, None, None, None, None, None, None, None, None, None, None, None, None, None, None, None, None, None, None, None, None]\n"
          ]
        }
      ]
    },
    {
      "cell_type": "code",
      "metadata": {
        "colab": {
          "base_uri": "https://localhost:8080/"
        },
        "id": "41deAZPiErVr",
        "outputId": "a526036c-10ef-4b64-fc57-a4c8056f5e36"
      },
      "source": [
        "def get_hash(key):\n",
        "    hash = 0\n",
        "    for char in key:\n",
        "        hash += ord(char)\n",
        "    return hash % 100\n",
        "\n",
        "get_hash('march 6')"
      ],
      "execution_count": 5,
      "outputs": [
        {
          "output_type": "execute_result",
          "data": {
            "text/plain": [
              "9"
            ]
          },
          "metadata": {},
          "execution_count": 5
        }
      ]
    },
    {
      "cell_type": "code",
      "metadata": {
        "colab": {
          "base_uri": "https://localhost:8080/"
        },
        "id": "Y8ash7SdEzqE",
        "outputId": "ac2e6aef-b8d4-4296-c477-37313d4257e7"
      },
      "source": [
        "class HashTable:  \n",
        "    def __init__(self):\n",
        "        self.MAX = 100\n",
        "        self.arr = [None for i in range(self.MAX)]\n",
        "        \n",
        "    def get_hash(self, key):\n",
        "        hash = 0\n",
        "        for char in key:\n",
        "            hash += ord(char)\n",
        "        return hash % self.MAX\n",
        "\n",
        "t = HashTable()\n",
        "t.get_hash('march 6')"
      ],
      "execution_count": 7,
      "outputs": [
        {
          "output_type": "execute_result",
          "data": {
            "text/plain": [
              "9"
            ]
          },
          "metadata": {},
          "execution_count": 7
        }
      ]
    },
    {
      "cell_type": "code",
      "metadata": {
        "colab": {
          "base_uri": "https://localhost:8080/"
        },
        "id": "nzMLbSARGP8S",
        "outputId": "287d777a-ad5f-489b-8ab3-7fb190f50a10"
      },
      "source": [
        "class HashTable:  \n",
        "    def __init__(self):\n",
        "        self.MAX = 100\n",
        "        self.arr = [None for i in range(self.MAX)]\n",
        "        \n",
        "    def get_hash(self, key):\n",
        "        hash = 0\n",
        "        for char in key:\n",
        "            hash += ord(char)\n",
        "        return hash % self.MAX\n",
        "\n",
        "    def add(self,key,val):\n",
        "      h = self.get_hash(key)\n",
        "      self.arr[h] = val\n",
        "\n",
        "t = HashTable()\n",
        "t.add('march 6',130)\n",
        "print(t.arr)\n"
      ],
      "execution_count": 15,
      "outputs": [
        {
          "output_type": "stream",
          "name": "stdout",
          "text": [
            "[None, None, None, None, None, None, None, None, None, 130, None, None, None, None, None, None, None, None, None, None, None, None, None, None, None, None, None, None, None, None, None, None, None, None, None, None, None, None, None, None, None, None, None, None, None, None, None, None, None, None, None, None, None, None, None, None, None, None, None, None, None, None, None, None, None, None, None, None, None, None, None, None, None, None, None, None, None, None, None, None, None, None, None, None, None, None, None, None, None, None, None, None, None, None, None, None, None, None, None, None]\n"
          ]
        }
      ]
    },
    {
      "cell_type": "code",
      "metadata": {
        "colab": {
          "base_uri": "https://localhost:8080/"
        },
        "id": "2ODJ5D8PI1Mi",
        "outputId": "21d9ae61-b585-4774-a36e-2f8a04fcb9e0"
      },
      "source": [
        "class HashTable:  \n",
        "    def __init__(self):\n",
        "        self.MAX = 100\n",
        "        self.arr = [None for i in range(self.MAX)]\n",
        "        \n",
        "    def get_hash(self, key):\n",
        "        hash = 0\n",
        "        for char in key:\n",
        "            hash += ord(char)\n",
        "        return hash % self.MAX\n",
        "\n",
        "    def add(self,key,val):\n",
        "      h = self.get_hash(key)\n",
        "      self.arr[h] = val\n",
        "\n",
        "    def get(self,key):\n",
        "      h = self.get_hash(key)\n",
        "      return self.arr[h]\n",
        "\n",
        "t = HashTable()\n",
        "t.add('march 6',130)\n",
        "print(t.arr)\n",
        "t.get('march 6')"
      ],
      "execution_count": 16,
      "outputs": [
        {
          "output_type": "stream",
          "name": "stdout",
          "text": [
            "[None, None, None, None, None, None, None, None, None, 130, None, None, None, None, None, None, None, None, None, None, None, None, None, None, None, None, None, None, None, None, None, None, None, None, None, None, None, None, None, None, None, None, None, None, None, None, None, None, None, None, None, None, None, None, None, None, None, None, None, None, None, None, None, None, None, None, None, None, None, None, None, None, None, None, None, None, None, None, None, None, None, None, None, None, None, None, None, None, None, None, None, None, None, None, None, None, None, None, None, None]\n"
          ]
        },
        {
          "output_type": "execute_result",
          "data": {
            "text/plain": [
              "130"
            ]
          },
          "metadata": {},
          "execution_count": 16
        }
      ]
    },
    {
      "cell_type": "markdown",
      "metadata": {
        "id": "nVEtB2hzJ77Y"
      },
      "source": [
        "Standard Python Operators:https://docs.python.org/3/library/operator.html"
      ]
    },
    {
      "cell_type": "code",
      "metadata": {
        "colab": {
          "base_uri": "https://localhost:8080/"
        },
        "id": "fLFe4hTqJdHp",
        "outputId": "302993af-4214-4363-949f-9801c20218d7"
      },
      "source": [
        "class HashTable:  \n",
        "    def __init__(self):\n",
        "        self.MAX = 100\n",
        "        self.arr = [None for i in range(self.MAX)]\n",
        "        \n",
        "    def get_hash(self, key):\n",
        "        hash = 0\n",
        "        for char in key:\n",
        "            hash += ord(char)\n",
        "        return hash % self.MAX\n",
        "    \n",
        "    def __setitem__(self, key, val):\n",
        "        h = self.get_hash(key)\n",
        "        self.arr[h] = val \n",
        "\n",
        "    def __getitem__(self, index):\n",
        "        h = self.get_hash(index)\n",
        "        return self.arr[h]   \n",
        "        \n",
        "    def __delitem__(self, key):\n",
        "        h = self.get_hash(key)\n",
        "        self.arr[h] = None\n",
        "\n",
        "t = HashTable()\n",
        "t[\"march 6\"] = 310\n",
        "t[\"march 7\"] = 420\n",
        "\n",
        "print(t.arr)\n",
        "\n",
        "t[\"dec 30\"] = 88\n",
        "print(t.arr)\n",
        "print(t[\"dec 30\"])\n",
        "print(t[\"june 30\"])\n",
        "\n",
        "del t[\"march 6\"]\n",
        "print(t.arr)"
      ],
      "execution_count": 17,
      "outputs": [
        {
          "output_type": "stream",
          "name": "stdout",
          "text": [
            "[None, None, None, None, None, None, None, None, None, 310, 420, None, None, None, None, None, None, None, None, None, None, None, None, None, None, None, None, None, None, None, None, None, None, None, None, None, None, None, None, None, None, None, None, None, None, None, None, None, None, None, None, None, None, None, None, None, None, None, None, None, None, None, None, None, None, None, None, None, None, None, None, None, None, None, None, None, None, None, None, None, None, None, None, None, None, None, None, None, None, None, None, None, None, None, None, None, None, None, None, None]\n",
            "[None, None, None, None, None, None, None, None, None, 310, 420, None, None, None, None, None, None, None, None, None, None, None, None, None, None, None, None, None, None, None, None, 88, None, None, None, None, None, None, None, None, None, None, None, None, None, None, None, None, None, None, None, None, None, None, None, None, None, None, None, None, None, None, None, None, None, None, None, None, None, None, None, None, None, None, None, None, None, None, None, None, None, None, None, None, None, None, None, None, None, None, None, None, None, None, None, None, None, None, None, None]\n",
            "88\n",
            "None\n",
            "[None, None, None, None, None, None, None, None, None, None, 420, None, None, None, None, None, None, None, None, None, None, None, None, None, None, None, None, None, None, None, None, 88, None, None, None, None, None, None, None, None, None, None, None, None, None, None, None, None, None, None, None, None, None, None, None, None, None, None, None, None, None, None, None, None, None, None, None, None, None, None, None, None, None, None, None, None, None, None, None, None, None, None, None, None, None, None, None, None, None, None, None, None, None, None, None, None, None, None, None, None]\n"
          ]
        }
      ]
    },
    {
      "cell_type": "markdown",
      "metadata": {
        "id": "9FzvuHKwL9Kf"
      },
      "source": [
        "**Collision Handling in Hashtable**"
      ]
    },
    {
      "cell_type": "code",
      "metadata": {
        "colab": {
          "base_uri": "https://localhost:8080/"
        },
        "id": "oIIlLGdfMDEi",
        "outputId": "334767a9-7e73-4c4a-f543-4a3cc4832423"
      },
      "source": [
        "class HashTable:  \n",
        "    def __init__(self):\n",
        "        self.MAX = 10\n",
        "        self.arr = [None for i in range(self.MAX)]\n",
        "        \n",
        "    def get_hash(self, key):\n",
        "        hash = 0\n",
        "        for char in key:\n",
        "            hash += ord(char)\n",
        "        return hash % self.MAX\n",
        "    \n",
        "    def __setitem__(self, key, val):\n",
        "        h = self.get_hash(key)\n",
        "        self.arr[h] = val \n",
        "\n",
        "    def __getitem__(self, index):\n",
        "        h = self.get_hash(index)\n",
        "        return self.arr[h]   \n",
        "        \n",
        "    def __delitem__(self, key):\n",
        "        h = self.get_hash(key)\n",
        "        self.arr[h] = None\n",
        "\n",
        "t = HashTable()\n",
        "t[\"march 6\"] = 310\n",
        "t[\"march 8\"] = 67\n",
        "t[\"march 9\"] = 4\n",
        "t[\"march 17\"] = 459\n",
        "\n",
        "print(t.arr)\n",
        "\n",
        "print(t.get_hash(\"march 6\"))\n",
        "\n",
        "print(t.get_hash(\"march 17\"))\n",
        "\n",
        "print(t[\"march 6\"])\n"
      ],
      "execution_count": 20,
      "outputs": [
        {
          "output_type": "stream",
          "name": "stdout",
          "text": [
            "[None, 67, 4, None, None, None, None, None, None, 459]\n",
            "9\n",
            "9\n",
            "459\n"
          ]
        }
      ]
    },
    {
      "cell_type": "code",
      "metadata": {
        "id": "n4uMsSM3N-mu"
      },
      "source": [
        "class HashTable:  \n",
        "    def __init__(self):\n",
        "        self.MAX = 10\n",
        "        self.arr = [[] for i in range(self.MAX)]\n",
        "        \n",
        "    def get_hash(self, key):\n",
        "        hash = 0\n",
        "        for char in key:\n",
        "            hash += ord(char)\n",
        "        return hash % self.MAX\n",
        "    \n",
        "    def __setitem__(self, key, val):\n",
        "        h = self.get_hash(key)\n",
        "        self.arr[h] = val \n",
        "\n",
        "    def __getitem__(self, index):\n",
        "        h = self.get_hash(index)\n",
        "        return self.arr[h]   \n",
        "        \n",
        "    def __delitem__(self, key):\n",
        "        h = self.get_hash(key)\n",
        "        self.arr[h] = None\n",
        "\n",
        "t = HashTable()\n",
        "t[\"march 6\"] = 310\n",
        "t[\"march 6\"] = 78\n",
        "t[\"march 8\"] = 67\n",
        "t[\"march 9\"] = 4\n",
        "t[\"march 17\"] = 459\n",
        "\n",
        "print(t.arr)\n",
        "\n",
        "print(t.get_hash(\"march 6\"))\n",
        "\n",
        "print(t.get_hash(\"march 17\"))\n",
        "\n",
        "print(t[\"march 6\"])"
      ],
      "execution_count": null,
      "outputs": []
    },
    {
      "cell_type": "code",
      "metadata": {
        "colab": {
          "base_uri": "https://localhost:8080/"
        },
        "id": "7WseQACOPK2c",
        "outputId": "41ba29a5-6afc-4cfa-efa7-5476dae89dd9"
      },
      "source": [
        "class HashTable:  \n",
        "    def __init__(self):\n",
        "        self.MAX = 10\n",
        "        self.arr = [[] for i in range(self.MAX)]\n",
        "        \n",
        "    def get_hash(self, key):\n",
        "        hash = 0\n",
        "        for char in key:\n",
        "            hash += ord(char)\n",
        "        return hash % self.MAX\n",
        "    \n",
        "    def __getitem__(self, key):\n",
        "        arr_index = self.get_hash(key)\n",
        "        for kv in self.arr[arr_index]:\n",
        "            if kv[0] == key:\n",
        "                return kv[1]\n",
        "            \n",
        "    def __setitem__(self, key, val):\n",
        "        h = self.get_hash(key)\n",
        "        found = False\n",
        "        for idx, element in enumerate(self.arr[h]):\n",
        "            if len(element)==2 and element[0] == key:\n",
        "                self.arr[h][idx] = (key,val)\n",
        "                found = True\n",
        "        if not found:\n",
        "            self.arr[h].append((key,val))\n",
        "        \n",
        "    def __delitem__(self, key):\n",
        "        arr_index = self.get_hash(key)\n",
        "        for index, kv in enumerate(self.arr[arr_index]):\n",
        "            if kv[0] == key:\n",
        "                print(\"del\",index)\n",
        "                del self.arr[arr_index][index]\n",
        "\n",
        "t = HashTable()\n",
        "t[\"march 6\"] = 310\n",
        "t[\"march 7\"] = 420\n",
        "t[\"march 8\"] = 67\n",
        "t[\"march 17\"] = 63457\n",
        "\n",
        "print(t[\"march 6\"])\n",
        "print([\"march 17\"])\n",
        "print(t.arr)\n",
        "t[\"march 6\"] = 11\n",
        "print(t.arr)\n"
      ],
      "execution_count": 21,
      "outputs": [
        {
          "output_type": "stream",
          "name": "stdout",
          "text": [
            "310\n",
            "['march 17']\n",
            "[[('march 7', 420)], [('march 8', 67)], [], [], [], [], [], [], [], [('march 6', 310), ('march 17', 63457)]]\n",
            "[[('march 7', 420)], [('march 8', 67)], [], [], [], [], [], [], [], [('march 6', 11), ('march 17', 63457)]]\n"
          ]
        }
      ]
    },
    {
      "cell_type": "code",
      "metadata": {
        "colab": {
          "resources": {
            "http://localhost:8080/nbextensions/google.colab/files.js": {
              "data": "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",
              "ok": true,
              "headers": [
                [
                  "content-type",
                  "application/javascript"
                ]
              ],
              "status": 200,
              "status_text": ""
            }
          },
          "base_uri": "https://localhost:8080/",
          "height": 259
        },
        "id": "6EgT9tjhPFel",
        "outputId": "b8f1496b-5682-43cb-b442-ee24ed04f6ae"
      },
      "source": [
        "\n",
        "from google.colab import files\n",
        "uploaded = files.upload()\n",
        "\n",
        "import io\n",
        "d = pd.read_csv(io.BytesIO(uploaded['stock_prices.csv']))\n",
        "# Dataset is now stored in a Pandas Dataframe\n",
        "\n",
        "d.head()"
      ],
      "execution_count": null,
      "outputs": [
        {
          "output_type": "display_data",
          "data": {
            "text/html": [
              "\n",
              "     <input type=\"file\" id=\"files-c1bf341e-a371-4de3-b944-39312c3725ef\" name=\"files[]\" multiple disabled\n",
              "        style=\"border:none\" />\n",
              "     <output id=\"result-c1bf341e-a371-4de3-b944-39312c3725ef\">\n",
              "      Upload widget is only available when the cell has been executed in the\n",
              "      current browser session. Please rerun this cell to enable.\n",
              "      </output>\n",
              "      <script src=\"/nbextensions/google.colab/files.js\"></script> "
            ],
            "text/plain": [
              "<IPython.core.display.HTML object>"
            ]
          },
          "metadata": {}
        },
        {
          "output_type": "stream",
          "name": "stdout",
          "text": [
            "Saving stock_prices.csv to stock_prices.csv\n"
          ]
        },
        {
          "output_type": "execute_result",
          "data": {
            "text/html": [
              "<div>\n",
              "<style scoped>\n",
              "    .dataframe tbody tr th:only-of-type {\n",
              "        vertical-align: middle;\n",
              "    }\n",
              "\n",
              "    .dataframe tbody tr th {\n",
              "        vertical-align: top;\n",
              "    }\n",
              "\n",
              "    .dataframe thead th {\n",
              "        text-align: right;\n",
              "    }\n",
              "</style>\n",
              "<table border=\"1\" class=\"dataframe\">\n",
              "  <thead>\n",
              "    <tr style=\"text-align: right;\">\n",
              "      <th></th>\n",
              "      <th>17-Sep</th>\n",
              "      <th>263</th>\n",
              "    </tr>\n",
              "  </thead>\n",
              "  <tbody>\n",
              "    <tr>\n",
              "      <th>0</th>\n",
              "      <td>18-Sep</td>\n",
              "      <td>270</td>\n",
              "    </tr>\n",
              "    <tr>\n",
              "      <th>1</th>\n",
              "      <td>19-Sep</td>\n",
              "      <td>230</td>\n",
              "    </tr>\n",
              "    <tr>\n",
              "      <th>2</th>\n",
              "      <td>20-Sep</td>\n",
              "      <td>240</td>\n",
              "    </tr>\n",
              "    <tr>\n",
              "      <th>3</th>\n",
              "      <td>21-Sep</td>\n",
              "      <td>250</td>\n",
              "    </tr>\n",
              "    <tr>\n",
              "      <th>4</th>\n",
              "      <td>22-Sep</td>\n",
              "      <td>280</td>\n",
              "    </tr>\n",
              "  </tbody>\n",
              "</table>\n",
              "</div>"
            ],
            "text/plain": [
              "   17-Sep  263\n",
              "0  18-Sep  270\n",
              "1  19-Sep  230\n",
              "2  20-Sep  240\n",
              "3  21-Sep  250\n",
              "4  22-Sep  280"
            ]
          },
          "metadata": {},
          "execution_count": 59
        }
      ]
    },
    {
      "cell_type": "code",
      "metadata": {
        "colab": {
          "base_uri": "https://localhost:8080/"
        },
        "id": "ldVeRzcBNTl-",
        "outputId": "7253ef53-52e6-4aea-b84a-3a205489dce5"
      },
      "source": [
        "import numpy as np\n",
        "\n",
        "# Linear probing program in python\n",
        "class Hash_table() :\n",
        "    \n",
        "    def __init__(self,size) :\n",
        "        self.size = size\n",
        "        self.hashtable = np.array([None]*self.size)\n",
        "        \n",
        "    def hash(self,key) :\n",
        "        \n",
        "        # Hash function h(x) = x%10\n",
        "        index = key%10 \n",
        "        \n",
        "        if self.hashtable[index] == None :\n",
        "            return index\n",
        "        else :\n",
        "            \n",
        "            # Implementing linear probing\n",
        "            while self.hashtable[index] != None :\n",
        "                index = (index+1)%10\n",
        "                \n",
        "            return index\n",
        "        \n",
        "    def insert(self,key) :\n",
        "        \n",
        "        index = self.hash(key)\n",
        "        self.hashtable[index] = key\n",
        "        \n",
        "    def search(self,key) :\n",
        "        \n",
        "        index = key%10\n",
        "        \n",
        "        if self.hashtable[index] != key :\n",
        "            while self.hashtable[index] != key and self.hashtable[index] != None :\n",
        "                index = (index+1)%10\n",
        "                \n",
        "        if self.hashtable[index] == key :\n",
        "            return index\n",
        "        else :\n",
        "            return None\n",
        "    \n",
        "    def print_hashtable(self) :\n",
        "        \n",
        "        print(\"Hash table is :-\\n\\nindex \\t value\")\n",
        "        for x in range(len(self.hashtable)) :\n",
        "            print(x,\"\\t\",self.hashtable[x])\n",
        "\n",
        "# Initializing hash table of size 10\n",
        "HT = Hash_table(10)\n",
        "\n",
        "# Inserting only 5 values to make λ <= 0.5\n",
        "HT.insert(10)\n",
        "HT.insert(90)\n",
        "HT.insert(25)\n",
        "HT.insert(5)\n",
        "HT.insert(35)\n",
        "\n",
        "HT.print_hashtable()\n",
        "\n",
        "index = HT.search(35)\n",
        "\n",
        "if index!= None :\n",
        "    print(\"\\nGiven key is present at index\",index)\n",
        "else :\n",
        "    print(\"\\nGiven key is not present in the hash table\")"
      ],
      "execution_count": null,
      "outputs": [
        {
          "output_type": "stream",
          "name": "stdout",
          "text": [
            "Hash table is :-\n",
            "\n",
            "index \t value\n",
            "0 \t 10\n",
            "1 \t 90\n",
            "2 \t None\n",
            "3 \t None\n",
            "4 \t None\n",
            "5 \t 25\n",
            "6 \t 5\n",
            "7 \t 35\n",
            "8 \t None\n",
            "9 \t None\n",
            "\n",
            "Given key is present at index 7\n"
          ]
        }
      ]
    },
    {
      "cell_type": "markdown",
      "metadata": {
        "id": "6jiyL2Nx6Arj"
      },
      "source": [
        "**Hash Table Collision Handling Using Chaining**"
      ]
    },
    {
      "cell_type": "markdown",
      "metadata": {
        "id": "0UEgi0lG74tH"
      },
      "source": [
        "# New Section"
      ]
    }
  ]
}