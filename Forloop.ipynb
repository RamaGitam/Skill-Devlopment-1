{
  "nbformat": 4,
  "nbformat_minor": 0,
  "metadata": {
    "colab": {
      "name": "Forloop.ipynb",
      "provenance": [],
      "authorship_tag": "ABX9TyO7nkzoCgZZUs+H/0ckPmnD",
      "include_colab_link": true
    },
    "kernelspec": {
      "name": "python3",
      "display_name": "Python 3"
    },
    "language_info": {
      "name": "python"
    }
  },
  "cells": [
    {
      "cell_type": "markdown",
      "metadata": {
        "id": "view-in-github",
        "colab_type": "text"
      },
      "source": [
        "<a href=\"https://colab.research.google.com/github/RamaGitam/Skill-Devlopment-IV/blob/main/Forloop.ipynb\" target=\"_parent\"><img src=\"https://colab.research.google.com/assets/colab-badge.svg\" alt=\"Open In Colab\"/></a>"
      ]
    },
    {
      "cell_type": "markdown",
      "metadata": {
        "id": "YmonZRzVGfDB"
      },
      "source": [
        "**FOR LOOP**"
      ]
    },
    {
      "cell_type": "code",
      "metadata": {
        "colab": {
          "base_uri": "https://localhost:8080/"
        },
        "id": "-VtFMS9p0T-i",
        "outputId": "c09cac7e-8fb6-4b6a-8c9f-28d65aa0f111"
      },
      "source": [
        "# Print elements of a list using for loop\n",
        "lst = ['Rama', 5, 10.2]\n",
        "\n",
        "for i in lst:\n",
        "\n",
        "  print (i)"
      ],
      "execution_count": null,
      "outputs": [
        {
          "output_type": "stream",
          "text": [
            "Rama\n",
            "5\n",
            "10.2\n"
          ],
          "name": "stdout"
        }
      ]
    },
    {
      "cell_type": "code",
      "metadata": {
        "colab": {
          "base_uri": "https://localhost:8080/"
        },
        "id": "eeZcj8Xe6ALE",
        "outputId": "08a5f107-c6f8-426a-8a2f-2420367a97dc"
      },
      "source": [
        "# Print elements of a string using for loop\n",
        "string = 'Rama'\n",
        "\n",
        "for i in lst:\n",
        "\n",
        "  print (i)\n"
      ],
      "execution_count": null,
      "outputs": [
        {
          "output_type": "stream",
          "text": [
            "Rama\n",
            "5\n",
            "10.2\n"
          ],
          "name": "stdout"
        }
      ]
    },
    {
      "cell_type": "code",
      "metadata": {
        "colab": {
          "base_uri": "https://localhost:8080/"
        },
        "id": "_ggccUQ36TRL",
        "outputId": "e9fac857-5dcd-45b5-f022-9ba7e867f2e6"
      },
      "source": [
        "# Print 1 to 10 using for loop\n",
        "\n",
        "for i in range(11):\n",
        "\n",
        "  print (i)"
      ],
      "execution_count": null,
      "outputs": [
        {
          "output_type": "stream",
          "text": [
            "0\n",
            "1\n",
            "2\n",
            "3\n",
            "4\n",
            "5\n",
            "6\n",
            "7\n",
            "8\n",
            "9\n"
          ],
          "name": "stdout"
        }
      ]
    },
    {
      "cell_type": "code",
      "metadata": {
        "colab": {
          "base_uri": "https://localhost:8080/"
        },
        "id": "TAH49XYp6gJT",
        "outputId": "3f50e90f-2eb0-4f77-d01e-e12509d18402"
      },
      "source": [
        "# Print 11 to 20 using for loop\n",
        "\n",
        "for i in range(11, 20+1):\n",
        "\n",
        "  print (i)"
      ],
      "execution_count": null,
      "outputs": [
        {
          "output_type": "stream",
          "text": [
            "11\n",
            "12\n",
            "13\n",
            "14\n",
            "15\n",
            "16\n",
            "17\n",
            "18\n",
            "19\n",
            "20\n"
          ],
          "name": "stdout"
        }
      ]
    },
    {
      "cell_type": "code",
      "metadata": {
        "colab": {
          "base_uri": "https://localhost:8080/"
        },
        "id": "KxRaSwPk6yZ0",
        "outputId": "48565a93-7b28-48fb-999c-a7bc9517fe1b"
      },
      "source": [
        "# Print 11 to 20 using for loop with 2 space gap\n",
        "\n",
        "for i in range(11, 20, 2):\n",
        "\n",
        "  print (i)"
      ],
      "execution_count": null,
      "outputs": [
        {
          "output_type": "stream",
          "text": [
            "11\n",
            "13\n",
            "15\n",
            "17\n",
            "19\n"
          ],
          "name": "stdout"
        }
      ]
    },
    {
      "cell_type": "code",
      "metadata": {
        "colab": {
          "base_uri": "https://localhost:8080/"
        },
        "id": "HVP-siro6_BD",
        "outputId": "544ba04d-c725-4232-c1a4-c02148a966a3"
      },
      "source": [
        "# Print  20 to 5 in reverse order using for loop with 2 space gap\n",
        "\n",
        "for i in range(20, 5, -1):\n",
        "\n",
        "  print (i)"
      ],
      "execution_count": null,
      "outputs": [
        {
          "output_type": "stream",
          "text": [
            "20\n",
            "19\n",
            "18\n",
            "17\n",
            "16\n",
            "15\n",
            "14\n",
            "13\n",
            "12\n",
            "11\n",
            "10\n",
            "9\n",
            "8\n",
            "7\n",
            "6\n"
          ],
          "name": "stdout"
        }
      ]
    },
    {
      "cell_type": "code",
      "metadata": {
        "colab": {
          "base_uri": "https://localhost:8080/"
        },
        "id": "py2t6dZ87Mlz",
        "outputId": "c5f4c7a3-e342-4f3a-924d-358ca1440628"
      },
      "source": [
        "# Print  1 t0 10 only odd numbers using for loop\n",
        "\n",
        "for i in range(1, 11):\n",
        "\n",
        "  if i%2 != 0:\n",
        "    print (i)"
      ],
      "execution_count": null,
      "outputs": [
        {
          "output_type": "stream",
          "text": [
            "1\n",
            "3\n",
            "5\n",
            "7\n",
            "9\n"
          ],
          "name": "stdout"
        }
      ]
    },
    {
      "cell_type": "code",
      "metadata": {
        "colab": {
          "base_uri": "https://localhost:8080/"
        },
        "id": "nem_dNJPDHhz",
        "outputId": "2af08446-7320-4831-d766-019eed4e1f89"
      },
      "source": [
        "# Add the elements of the list [20, 10, 30] and display the result\n",
        "\n",
        "lst = [20, 10, 30]\n",
        "\n",
        "sum = 0\n",
        "\n",
        "for i in lst:\n",
        "\n",
        "  sum = sum + i     \n",
        "  \n",
        "  # sum += i\n",
        "\n",
        "print (sum)"
      ],
      "execution_count": null,
      "outputs": [
        {
          "output_type": "stream",
          "text": [
            "60\n"
          ],
          "name": "stdout"
        }
      ]
    },
    {
      "cell_type": "markdown",
      "metadata": {
        "id": "LcJVoXvyGoVg"
      },
      "source": [
        "**NESTED FOR LOOP**"
      ]
    },
    {
      "cell_type": "code",
      "metadata": {
        "id": "zGhdF3pYEWtK",
        "colab": {
          "base_uri": "https://localhost:8080/"
        },
        "outputId": "735cc121-f9d2-4b43-e1c2-4437b2b1bbc3"
      },
      "source": [
        "# Simple Nested For Loop\n",
        "for i in range (2):\n",
        "  print ('Outer Loop', i)\n",
        "\n",
        "  for j in range (3):\n",
        "    print(\"Innter Loop\", j)\n",
        "  print(\"\\n\")"
      ],
      "execution_count": 4,
      "outputs": [
        {
          "output_type": "stream",
          "text": [
            "Outer Loop 0\n",
            "Innter Loop 0\n",
            "Innter Loop 1\n",
            "Innter Loop 2\n",
            "\n",
            "\n",
            "Outer Loop 1\n",
            "Innter Loop 0\n",
            "Innter Loop 1\n",
            "Innter Loop 2\n",
            "\n",
            "\n"
          ],
          "name": "stdout"
        }
      ]
    },
    {
      "cell_type": "code",
      "metadata": {
        "colab": {
          "base_uri": "https://localhost:8080/"
        },
        "id": "_ovm3o9SGudR",
        "outputId": "33093f5f-c939-4fcd-a816-a9efe35f7591"
      },
      "source": [
        "for i in range(1,20):\n",
        "  print (i)"
      ],
      "execution_count": 18,
      "outputs": [
        {
          "output_type": "stream",
          "text": [
            "1\n",
            "2\n",
            "3\n",
            "4\n",
            "5\n",
            "6\n",
            "7\n",
            "8\n",
            "9\n",
            "10\n",
            "11\n",
            "12\n",
            "13\n",
            "14\n",
            "15\n",
            "16\n",
            "17\n",
            "18\n",
            "19\n"
          ],
          "name": "stdout"
        }
      ]
    },
    {
      "cell_type": "code",
      "metadata": {
        "colab": {
          "base_uri": "https://localhost:8080/"
        },
        "id": "OELBAxdACVG8",
        "outputId": "05a8716e-d541-49fb-ed1c-73565052839d"
      },
      "source": [
        "f = [i for i in range(1,20)]\n",
        "print(f)"
      ],
      "execution_count": 12,
      "outputs": [
        {
          "output_type": "stream",
          "text": [
            "[1, 2, 3, 4, 5, 6, 7, 8, 9, 10, 11, 12, 13, 14, 15, 16, 17, 18, 19]\n"
          ],
          "name": "stdout"
        }
      ]
    },
    {
      "cell_type": "code",
      "metadata": {
        "colab": {
          "base_uri": "https://localhost:8080/"
        },
        "id": "HQuoXSJKGPZK",
        "outputId": "4c04bd94-66bb-4b4b-f762-811af4bd87ba"
      },
      "source": [
        "a = 10\n",
        "b = 5\n",
        "if a>b: \n",
        "  print(a)\n",
        "else: \n",
        "  print (b)"
      ],
      "execution_count": 17,
      "outputs": [
        {
          "output_type": "stream",
          "text": [
            "10\n"
          ],
          "name": "stdout"
        }
      ]
    },
    {
      "cell_type": "code",
      "metadata": {
        "colab": {
          "base_uri": "https://localhost:8080/"
        },
        "id": "Ny44MvsxGPLS",
        "outputId": "1050c8f3-df91-4ae3-b8d3-0667d3bf3d5f"
      },
      "source": [
        "a = 10\n",
        "b = 5\n",
        "print (a) if a>b else print (b)"
      ],
      "execution_count": 14,
      "outputs": [
        {
          "output_type": "stream",
          "text": [
            "10\n"
          ],
          "name": "stdout"
        }
      ]
    },
    {
      "cell_type": "code",
      "metadata": {
        "colab": {
          "base_uri": "https://localhost:8080/"
        },
        "id": "s08Gqu5CGrEi",
        "outputId": "0f1cc3ff-e40a-4df0-bc4e-8a372014b01d"
      },
      "source": [
        "# for loop with if else condition in single line\n",
        "f = [i for i in range(0,20) if i%2 == 0]\n",
        "print(f)"
      ],
      "execution_count": 20,
      "outputs": [
        {
          "output_type": "stream",
          "text": [
            "[0, 2, 4, 6, 8, 10, 12, 14, 16, 18]\n"
          ],
          "name": "stdout"
        }
      ]
    },
    {
      "cell_type": "code",
      "metadata": {
        "colab": {
          "base_uri": "https://localhost:8080/"
        },
        "id": "PxUy0QQCH3Jz",
        "outputId": "9b03ebc0-276c-4f1d-c0ff-c409bc872465"
      },
      "source": [
        "# Two for loop in single line\n",
        "odd, even = [o for o in range(0,20) if o%2 == 1], [e for e in range(0,20) if e%2 == 0]\n",
        "print(odd)\n",
        "print(even)"
      ],
      "execution_count": 21,
      "outputs": [
        {
          "output_type": "stream",
          "text": [
            "[1, 3, 5, 7, 9, 11, 13, 15, 17, 19]\n",
            "[0, 2, 4, 6, 8, 10, 12, 14, 16, 18]\n"
          ],
          "name": "stdout"
        }
      ]
    },
    {
      "cell_type": "code",
      "metadata": {
        "colab": {
          "base_uri": "https://localhost:8080/"
        },
        "id": "CuTg41IuIdqc",
        "outputId": "2efb5e03-b6a4-4d00-a5a9-ab9a600f9a27"
      },
      "source": [
        "# Two for loop in single line\n",
        "odd, even = [o for o in range(0,20) if o%2 == 1], [e for e in range(0,20) if e%2 == 0]\n",
        "print(f'odd: {odd} \\neven: {even}')"
      ],
      "execution_count": 25,
      "outputs": [
        {
          "output_type": "stream",
          "text": [
            "odd: [1, 3, 5, 7, 9, 11, 13, 15, 17, 19] \n",
            "even: [0, 2, 4, 6, 8, 10, 12, 14, 16, 18]\n"
          ],
          "name": "stdout"
        }
      ]
    },
    {
      "cell_type": "code",
      "metadata": {
        "colab": {
          "base_uri": "https://localhost:8080/"
        },
        "id": "-GnDmy_SKjia",
        "outputId": "b6a80a96-4414-4f0b-851d-01595303c763"
      },
      "source": [
        "a = 5\n",
        "b = 10\n",
        "c = [a if a>b else b for i in range(0,20)]\n",
        "print(c)"
      ],
      "execution_count": 27,
      "outputs": [
        {
          "output_type": "stream",
          "text": [
            "[10, 10, 10, 10, 10, 10, 10, 10, 10, 10, 10, 10, 10, 10, 10, 10, 10, 10, 10, 10]\n"
          ],
          "name": "stdout"
        }
      ]
    }
  ]
}