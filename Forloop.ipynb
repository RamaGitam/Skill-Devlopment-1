{
  "nbformat": 4,
  "nbformat_minor": 0,
  "metadata": {
    "colab": {
      "name": "Forloop.ipynb",
      "provenance": [],
      "authorship_tag": "ABX9TyOHBS7xsrf+Jn9NNbQNJyOB",
      "include_colab_link": true
    },
    "kernelspec": {
      "name": "python3",
      "display_name": "Python 3"
    },
    "language_info": {
      "name": "python"
    }
  },
  "cells": [
    {
      "cell_type": "markdown",
      "metadata": {
        "id": "view-in-github",
        "colab_type": "text"
      },
      "source": [
        "<a href=\"https://colab.research.google.com/github/RamaGitam/Skill-Devlopment-IV/blob/main/Forloop.ipynb\" target=\"_parent\"><img src=\"https://colab.research.google.com/assets/colab-badge.svg\" alt=\"Open In Colab\"/></a>"
      ]
    },
    {
      "cell_type": "markdown",
      "metadata": {
        "id": "YmonZRzVGfDB"
      },
      "source": [
        "**FOR LOOP**"
      ]
    },
    {
      "cell_type": "code",
      "metadata": {
        "colab": {
          "base_uri": "https://localhost:8080/"
        },
        "id": "-VtFMS9p0T-i",
        "outputId": "c09cac7e-8fb6-4b6a-8c9f-28d65aa0f111"
      },
      "source": [
        "# Print elements of a list using for loop\n",
        "lst = ['Rama', 5, 10.2]\n",
        "\n",
        "for i in lst:\n",
        "\n",
        "  print (i)"
      ],
      "execution_count": 1,
      "outputs": [
        {
          "output_type": "stream",
          "text": [
            "Rama\n",
            "5\n",
            "10.2\n"
          ],
          "name": "stdout"
        }
      ]
    },
    {
      "cell_type": "code",
      "metadata": {
        "colab": {
          "base_uri": "https://localhost:8080/"
        },
        "id": "eeZcj8Xe6ALE",
        "outputId": "08a5f107-c6f8-426a-8a2f-2420367a97dc"
      },
      "source": [
        "# Print elements of a string using for loop\n",
        "string = 'Rama'\n",
        "\n",
        "for i in lst:\n",
        "\n",
        "  print (i)\n"
      ],
      "execution_count": 2,
      "outputs": [
        {
          "output_type": "stream",
          "text": [
            "Rama\n",
            "5\n",
            "10.2\n"
          ],
          "name": "stdout"
        }
      ]
    },
    {
      "cell_type": "code",
      "metadata": {
        "colab": {
          "base_uri": "https://localhost:8080/"
        },
        "id": "_ggccUQ36TRL",
        "outputId": "e9fac857-5dcd-45b5-f022-9ba7e867f2e6"
      },
      "source": [
        "# Print 1 to 10 using for loop\n",
        "\n",
        "for i in range(11):\n",
        "\n",
        "  print (i)"
      ],
      "execution_count": 3,
      "outputs": [
        {
          "output_type": "stream",
          "text": [
            "0\n",
            "1\n",
            "2\n",
            "3\n",
            "4\n",
            "5\n",
            "6\n",
            "7\n",
            "8\n",
            "9\n"
          ],
          "name": "stdout"
        }
      ]
    },
    {
      "cell_type": "code",
      "metadata": {
        "colab": {
          "base_uri": "https://localhost:8080/"
        },
        "id": "TAH49XYp6gJT",
        "outputId": "3f50e90f-2eb0-4f77-d01e-e12509d18402"
      },
      "source": [
        "# Print 11 to 20 using for loop\n",
        "\n",
        "for i in range(11, 20+1):\n",
        "\n",
        "  print (i)"
      ],
      "execution_count": 7,
      "outputs": [
        {
          "output_type": "stream",
          "text": [
            "11\n",
            "12\n",
            "13\n",
            "14\n",
            "15\n",
            "16\n",
            "17\n",
            "18\n",
            "19\n",
            "20\n"
          ],
          "name": "stdout"
        }
      ]
    },
    {
      "cell_type": "code",
      "metadata": {
        "colab": {
          "base_uri": "https://localhost:8080/"
        },
        "id": "KxRaSwPk6yZ0",
        "outputId": "48565a93-7b28-48fb-999c-a7bc9517fe1b"
      },
      "source": [
        "# Print 11 to 20 using for loop with 2 space gap\n",
        "\n",
        "for i in range(11, 20, 2):\n",
        "\n",
        "  print (i)"
      ],
      "execution_count": 5,
      "outputs": [
        {
          "output_type": "stream",
          "text": [
            "11\n",
            "13\n",
            "15\n",
            "17\n",
            "19\n"
          ],
          "name": "stdout"
        }
      ]
    },
    {
      "cell_type": "code",
      "metadata": {
        "colab": {
          "base_uri": "https://localhost:8080/"
        },
        "id": "HVP-siro6_BD",
        "outputId": "544ba04d-c725-4232-c1a4-c02148a966a3"
      },
      "source": [
        "# Print  20 to 5 in reverse order using for loop with 2 space gap\n",
        "\n",
        "for i in range(20, 5, -1):\n",
        "\n",
        "  print (i)"
      ],
      "execution_count": 6,
      "outputs": [
        {
          "output_type": "stream",
          "text": [
            "20\n",
            "19\n",
            "18\n",
            "17\n",
            "16\n",
            "15\n",
            "14\n",
            "13\n",
            "12\n",
            "11\n",
            "10\n",
            "9\n",
            "8\n",
            "7\n",
            "6\n"
          ],
          "name": "stdout"
        }
      ]
    },
    {
      "cell_type": "code",
      "metadata": {
        "colab": {
          "base_uri": "https://localhost:8080/"
        },
        "id": "py2t6dZ87Mlz",
        "outputId": "c5f4c7a3-e342-4f3a-924d-358ca1440628"
      },
      "source": [
        "# Print  1 t0 10 only odd numbers using for loop\n",
        "\n",
        "for i in range(1, 11):\n",
        "\n",
        "  if i%2 != 0:\n",
        "    print (i)"
      ],
      "execution_count": 8,
      "outputs": [
        {
          "output_type": "stream",
          "text": [
            "1\n",
            "3\n",
            "5\n",
            "7\n",
            "9\n"
          ],
          "name": "stdout"
        }
      ]
    },
    {
      "cell_type": "code",
      "metadata": {
        "colab": {
          "base_uri": "https://localhost:8080/"
        },
        "id": "nem_dNJPDHhz",
        "outputId": "2af08446-7320-4831-d766-019eed4e1f89"
      },
      "source": [
        "# Add the elements of the list [20, 10, 30] and display the result\n",
        "\n",
        "lst = [20, 10, 30]\n",
        "\n",
        "sum = 0\n",
        "\n",
        "for i in lst:\n",
        "\n",
        "  sum = sum + i     \n",
        "  \n",
        "  # sum += i\n",
        "\n",
        "print (sum)"
      ],
      "execution_count": 13,
      "outputs": [
        {
          "output_type": "stream",
          "text": [
            "60\n"
          ],
          "name": "stdout"
        }
      ]
    },
    {
      "cell_type": "markdown",
      "metadata": {
        "id": "LcJVoXvyGoVg"
      },
      "source": [
        "**NESTED FOR LOOP**"
      ]
    },
    {
      "cell_type": "code",
      "metadata": {
        "id": "zGhdF3pYEWtK"
      },
      "source": [
        ""
      ],
      "execution_count": null,
      "outputs": []
    }
  ]
}