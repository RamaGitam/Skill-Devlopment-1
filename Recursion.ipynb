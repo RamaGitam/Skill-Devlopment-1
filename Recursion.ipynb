{
  "nbformat": 4,
  "nbformat_minor": 0,
  "metadata": {
    "colab": {
      "name": "Recursion.ipynb",
      "provenance": [],
      "authorship_tag": "ABX9TyNDuXV/ppSduQ4KfViyqOks",
      "include_colab_link": true
    },
    "kernelspec": {
      "name": "python3",
      "display_name": "Python 3"
    },
    "language_info": {
      "name": "python"
    }
  },
  "cells": [
    {
      "cell_type": "markdown",
      "metadata": {
        "id": "view-in-github",
        "colab_type": "text"
      },
      "source": [
        "<a href=\"https://colab.research.google.com/github/RamaGitam/Skill-Devlopment-IV/blob/main/Recursion.ipynb\" target=\"_parent\"><img src=\"https://colab.research.google.com/assets/colab-badge.svg\" alt=\"Open In Colab\"/></a>"
      ]
    },
    {
      "cell_type": "markdown",
      "metadata": {
        "id": "pnD0H0F_L3qy"
      },
      "source": [
        "###**Recursion**\n"
      ]
    },
    {
      "cell_type": "code",
      "metadata": {
        "colab": {
          "base_uri": "https://localhost:8080/"
        },
        "id": "cCrhH2kbL2H6",
        "outputId": "443ea139-b752-4bbd-8a8f-c17b5c556b40"
      },
      "source": [
        "def gitam():\n",
        "  print('Hello Gitam')\n",
        "\n",
        "gitam()"
      ],
      "execution_count": null,
      "outputs": [
        {
          "output_type": "stream",
          "text": [
            "Hello Gitam\n"
          ],
          "name": "stdout"
        }
      ]
    },
    {
      "cell_type": "code",
      "metadata": {
        "colab": {
          "base_uri": "https://localhost:8080/"
        },
        "id": "Mtun180_NC4Q",
        "outputId": "176e7fc3-b381-4fb1-892e-77504fc200f3"
      },
      "source": [
        "def gitam():\n",
        "  for i in range(4):\n",
        "    print('Hello Gitam')\n",
        "\n",
        "gitam()\n"
      ],
      "execution_count": null,
      "outputs": [
        {
          "output_type": "stream",
          "text": [
            "Hello Gitam\n",
            "Hello Gitam\n",
            "Hello Gitam\n",
            "Hello Gitam\n"
          ],
          "name": "stdout"
        }
      ]
    },
    {
      "cell_type": "code",
      "metadata": {
        "colab": {
          "base_uri": "https://localhost:8080/"
        },
        "id": "aA6iVXNXNPfH",
        "outputId": "8379b8c9-6ff7-480f-ce66-b297261118c5"
      },
      "source": [
        "# simple recursion function and it's limit\n",
        "def gitam():\n",
        "  print('Hello Gitam')\n",
        "  # gitam()\n",
        "\n",
        "gitam()"
      ],
      "execution_count": null,
      "outputs": [
        {
          "output_type": "stream",
          "text": [
            "Hello Gitam\n"
          ],
          "name": "stdout"
        }
      ]
    },
    {
      "cell_type": "code",
      "metadata": {
        "colab": {
          "base_uri": "https://localhost:8080/"
        },
        "id": "DYw_9CNjSdsI",
        "outputId": "a4891fcb-0715-42fb-eb13-4f9730e7ce06"
      },
      "source": [
        "# factorial of number using for loop (iterative)\n",
        "\n",
        "n = int(input(\"Enter the number:\"))\n",
        "\n",
        "result = 1\n",
        "\n",
        "for i in range(n,0,-1):\n",
        "  result = result*i\n",
        "\n",
        "print(result)"
      ],
      "execution_count": null,
      "outputs": [
        {
          "output_type": "stream",
          "text": [
            "Enter the number:5\n",
            "120\n"
          ],
          "name": "stdout"
        }
      ]
    },
    {
      "cell_type": "code",
      "metadata": {
        "colab": {
          "base_uri": "https://localhost:8080/"
        },
        "id": "afVpF1fWQ6Rw",
        "outputId": "b87b9332-f4e5-4488-c039-0508bd28922c"
      },
      "source": [
        "# factorial of number using recursion function\n",
        "\n",
        "def fact(n):\n",
        "\n",
        "  if n == 0:\n",
        "    return 1\n",
        "\n",
        "  return n*fact(n-1)\n",
        "\n",
        "\n",
        "result = fact(5)\n",
        "print(result)"
      ],
      "execution_count": null,
      "outputs": [
        {
          "output_type": "stream",
          "text": [
            "120\n"
          ],
          "name": "stdout"
        }
      ]
    },
    {
      "cell_type": "code",
      "metadata": {
        "id": "w8Frb8gyTeCX"
      },
      "source": [
        ""
      ],
      "execution_count": null,
      "outputs": []
    }
  ]
}